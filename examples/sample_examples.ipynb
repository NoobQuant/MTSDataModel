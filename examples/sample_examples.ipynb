{
 "cells": [
  {
   "cell_type": "markdown",
   "metadata": {},
   "source": [
    "# Examples on using MTSDataModel"
   ]
  },
  {
   "cell_type": "markdown",
   "metadata": {},
   "source": [
    "## Load modules"
   ]
  },
  {
   "cell_type": "code",
   "execution_count": 1,
   "metadata": {},
   "outputs": [],
   "source": [
    "%load_ext autoreload\n",
    "%autoreload 2"
   ]
  },
  {
   "cell_type": "code",
   "execution_count": 2,
   "metadata": {},
   "outputs": [],
   "source": [
    "import sys\n",
    "sys.path.insert(0,r'../src/')\n",
    "import MTSDataModel as mts"
   ]
  },
  {
   "cell_type": "code",
   "execution_count": 3,
   "metadata": {},
   "outputs": [],
   "source": [
    "import pandas as pd\n",
    "import numpy as np\n",
    "%matplotlib inline\n",
    "from matplotlib import pyplot as plt\n",
    "import rpy2"
   ]
  },
  {
   "cell_type": "markdown",
   "metadata": {},
   "source": [
    "## Get data"
   ]
  },
  {
   "cell_type": "code",
   "execution_count": 4,
   "metadata": {},
   "outputs": [],
   "source": [
    "filename = 'sample_data.csv'\n",
    "colnames = {'level1': 'Variable', 'level2': 'Country', 'value': 'Value','index': 'Date'}\n",
    "do = mts.MTSDataModel(filepath = filename, colnames = colnames)"
   ]
  },
  {
   "cell_type": "code",
   "execution_count": 5,
   "metadata": {},
   "outputs": [
    {
     "data": {
      "text/html": [
       "<div>\n",
       "<style scoped>\n",
       "    .dataframe tbody tr th:only-of-type {\n",
       "        vertical-align: middle;\n",
       "    }\n",
       "\n",
       "    .dataframe tbody tr th {\n",
       "        vertical-align: top;\n",
       "    }\n",
       "\n",
       "    .dataframe thead tr th {\n",
       "        text-align: left;\n",
       "    }\n",
       "</style>\n",
       "<table border=\"1\" class=\"dataframe\">\n",
       "  <thead>\n",
       "    <tr>\n",
       "      <th></th>\n",
       "      <th colspan=\"2\" halign=\"left\">GDP</th>\n",
       "      <th colspan=\"3\" halign=\"left\">Inflation</th>\n",
       "      <th colspan=\"3\" halign=\"left\">StockPrices</th>\n",
       "    </tr>\n",
       "    <tr>\n",
       "      <th></th>\n",
       "      <th>DEU</th>\n",
       "      <th>FIN</th>\n",
       "      <th>AUT</th>\n",
       "      <th>DEU</th>\n",
       "      <th>FIN</th>\n",
       "      <th>AUT</th>\n",
       "      <th>DEU</th>\n",
       "      <th>FIN</th>\n",
       "    </tr>\n",
       "  </thead>\n",
       "  <tbody>\n",
       "    <tr>\n",
       "      <th>1970-01-01</th>\n",
       "      <td>NaN</td>\n",
       "      <td>6.355725e+10</td>\n",
       "      <td>25.154467</td>\n",
       "      <td>31.620100</td>\n",
       "      <td>12.784633</td>\n",
       "      <td>11.314692</td>\n",
       "      <td>10.873145</td>\n",
       "      <td>1.247428</td>\n",
       "    </tr>\n",
       "    <tr>\n",
       "      <th>1970-04-01</th>\n",
       "      <td>NaN</td>\n",
       "      <td>6.568328e+10</td>\n",
       "      <td>25.412633</td>\n",
       "      <td>31.900933</td>\n",
       "      <td>12.861467</td>\n",
       "      <td>11.390358</td>\n",
       "      <td>9.807037</td>\n",
       "      <td>1.306829</td>\n",
       "    </tr>\n",
       "    <tr>\n",
       "      <th>1970-07-01</th>\n",
       "      <td>NaN</td>\n",
       "      <td>6.706184e+10</td>\n",
       "      <td>25.781500</td>\n",
       "      <td>31.947800</td>\n",
       "      <td>12.946200</td>\n",
       "      <td>12.117531</td>\n",
       "      <td>9.271091</td>\n",
       "      <td>1.348410</td>\n",
       "    </tr>\n",
       "    <tr>\n",
       "      <th>1970-10-01</th>\n",
       "      <td>NaN</td>\n",
       "      <td>6.790094e+10</td>\n",
       "      <td>26.002767</td>\n",
       "      <td>32.252033</td>\n",
       "      <td>13.017667</td>\n",
       "      <td>12.248969</td>\n",
       "      <td>8.835394</td>\n",
       "      <td>1.401871</td>\n",
       "    </tr>\n",
       "    <tr>\n",
       "      <th>1971-01-01</th>\n",
       "      <td>NaN</td>\n",
       "      <td>6.437505e+10</td>\n",
       "      <td>26.260967</td>\n",
       "      <td>33.024367</td>\n",
       "      <td>13.290433</td>\n",
       "      <td>12.077389</td>\n",
       "      <td>9.699077</td>\n",
       "      <td>1.490974</td>\n",
       "    </tr>\n",
       "  </tbody>\n",
       "</table>\n",
       "</div>"
      ],
      "text/plain": [
       "           GDP                Inflation                       StockPrices  \\\n",
       "           DEU           FIN        AUT        DEU        FIN         AUT   \n",
       "1970-01-01 NaN  6.355725e+10  25.154467  31.620100  12.784633   11.314692   \n",
       "1970-04-01 NaN  6.568328e+10  25.412633  31.900933  12.861467   11.390358   \n",
       "1970-07-01 NaN  6.706184e+10  25.781500  31.947800  12.946200   12.117531   \n",
       "1970-10-01 NaN  6.790094e+10  26.002767  32.252033  13.017667   12.248969   \n",
       "1971-01-01 NaN  6.437505e+10  26.260967  33.024367  13.290433   12.077389   \n",
       "\n",
       "                                 \n",
       "                  DEU       FIN  \n",
       "1970-01-01  10.873145  1.247428  \n",
       "1970-04-01   9.807037  1.306829  \n",
       "1970-07-01   9.271091  1.348410  \n",
       "1970-10-01   8.835394  1.401871  \n",
       "1971-01-01   9.699077  1.490974  "
      ]
     },
     "execution_count": 5,
     "metadata": {},
     "output_type": "execute_result"
    }
   ],
   "source": [
    "df = do.ReturnDf()\n",
    "df.head()"
   ]
  },
  {
   "cell_type": "markdown",
   "metadata": {},
   "source": [
    "## Pre-processing"
   ]
  },
  {
   "cell_type": "markdown",
   "metadata": {},
   "source": [
    "### Deflate"
   ]
  },
  {
   "cell_type": "code",
   "execution_count": null,
   "metadata": {},
   "outputs": [],
   "source": [
    "# Defaltes variable StockPrices for al entities for which variables\n",
    "# StockPrices and Inflation are present \n",
    "do.DeflateVariables(['StockPrices'], infvar = 'Inflation')"
   ]
  },
  {
   "cell_type": "markdown",
   "metadata": {},
   "source": [
    "### De-trend"
   ]
  },
  {
   "cell_type": "code",
   "execution_count": null,
   "metadata": {},
   "outputs": [],
   "source": [
    "do.DetrendVariables(['StockPrices_def','GDP'], difftype = 'ld')"
   ]
  },
  {
   "cell_type": "markdown",
   "metadata": {},
   "source": [
    "## Feature engineering"
   ]
  },
  {
   "cell_type": "markdown",
   "metadata": {},
   "source": [
    "### Wavelet MRA decompositions"
   ]
  },
  {
   "cell_type": "code",
   "execution_count": null,
   "metadata": {},
   "outputs": [],
   "source": [
    "do.MRADecomposition(variables = ['GDP_ld1'], entities=['FIN'],levels = 6,expanding='none')\n",
    "#do.MRADecomposition(variables = ['GDP_ld1'],levels = 6,expanding='none') # bug here"
   ]
  },
  {
   "cell_type": "markdown",
   "metadata": {},
   "source": [
    "### Dimension reduction"
   ]
  },
  {
   "cell_type": "code",
   "execution_count": null,
   "metadata": {},
   "outputs": [],
   "source": [
    "do.ReduceVariableDimension(suffix = 'PC', variables = ['StockPrices_def_ld1','GDP_ld1'] , entities = ['FIN','DEU'])"
   ]
  },
  {
   "cell_type": "markdown",
   "metadata": {},
   "source": [
    "### Sum variables"
   ]
  },
  {
   "cell_type": "code",
   "execution_count": null,
   "metadata": {},
   "outputs": [],
   "source": [
    "variables = ['GDP_ld1','StockPrices_def_ld1']\n",
    "do.SumVariables(variables,name=\"gdp+stock\")\n",
    "\n",
    "df = do.ReturnDf()\n",
    "df.head()"
   ]
  },
  {
   "cell_type": "markdown",
   "metadata": {},
   "source": [
    "## Plot"
   ]
  },
  {
   "cell_type": "code",
   "execution_count": null,
   "metadata": {},
   "outputs": [],
   "source": [
    "fig = plt.figure(figsize=(15,7))\n",
    "ax = fig.add_subplot(1,1,1)\n",
    "do.PlotVariables(variables=['StockPrices_def_ld1','GDP_ld1','PC','GDP_ld1_wl5'], entities=['FIN'], ax=ax)"
   ]
  }
 ],
 "metadata": {
  "kernelspec": {
   "display_name": "Python [default]",
   "language": "python",
   "name": "python3"
  },
  "language_info": {
   "codemirror_mode": {
    "name": "ipython",
    "version": 3
   },
   "file_extension": ".py",
   "mimetype": "text/x-python",
   "name": "python",
   "nbconvert_exporter": "python",
   "pygments_lexer": "ipython3",
   "version": "3.5.4"
  },
  "toc-showcode": false,
  "toc-showmarkdowntxt": false
 },
 "nbformat": 4,
 "nbformat_minor": 2
}
