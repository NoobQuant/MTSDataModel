{
 "cells": [
  {
   "cell_type": "markdown",
   "metadata": {},
   "source": [
    "# Examples on using MTSDataModel"
   ]
  },
  {
   "cell_type": "markdown",
   "metadata": {},
   "source": [
    "## Load modules"
   ]
  },
  {
   "cell_type": "code",
   "execution_count": 1,
   "metadata": {},
   "outputs": [],
   "source": [
    "%load_ext autoreload\n",
    "%autoreload 2"
   ]
  },
  {
   "cell_type": "code",
   "execution_count": 2,
   "metadata": {},
   "outputs": [],
   "source": [
    "import sys\n",
    "sys.path.insert(0,r'../src/')\n",
    "import MTSDataModel as mts"
   ]
  },
  {
   "cell_type": "code",
   "execution_count": 3,
   "metadata": {},
   "outputs": [],
   "source": [
    "import pandas as pd\n",
    "import numpy as np\n",
    "%matplotlib inline\n",
    "from matplotlib import pyplot as plt\n",
    "import rpy2"
   ]
  },
  {
   "cell_type": "markdown",
   "metadata": {},
   "source": [
    "## Get data"
   ]
  },
  {
   "cell_type": "code",
   "execution_count": 4,
   "metadata": {},
   "outputs": [],
   "source": [
    "filename = 'sample_data.csv'\n",
    "colnames = {'level1': 'Variable', 'level2': 'Country', 'value': 'Value','index': 'Date'}\n",
    "do = mts.MTSDataModel(filepath = filename, colnames = colnames)"
   ]
  },
  {
   "cell_type": "code",
   "execution_count": 5,
   "metadata": {},
   "outputs": [
    {
     "data": {
      "text/html": [
       "<div>\n",
       "<style scoped>\n",
       "    .dataframe tbody tr th:only-of-type {\n",
       "        vertical-align: middle;\n",
       "    }\n",
       "\n",
       "    .dataframe tbody tr th {\n",
       "        vertical-align: top;\n",
       "    }\n",
       "\n",
       "    .dataframe thead tr th {\n",
       "        text-align: left;\n",
       "    }\n",
       "</style>\n",
       "<table border=\"1\" class=\"dataframe\">\n",
       "  <thead>\n",
       "    <tr>\n",
       "      <th></th>\n",
       "      <th colspan=\"2\" halign=\"left\">GDP</th>\n",
       "      <th colspan=\"3\" halign=\"left\">Inflation</th>\n",
       "      <th colspan=\"3\" halign=\"left\">StockPrices</th>\n",
       "    </tr>\n",
       "    <tr>\n",
       "      <th></th>\n",
       "      <th>DEU</th>\n",
       "      <th>FIN</th>\n",
       "      <th>AUT</th>\n",
       "      <th>DEU</th>\n",
       "      <th>FIN</th>\n",
       "      <th>AUT</th>\n",
       "      <th>DEU</th>\n",
       "      <th>FIN</th>\n",
       "    </tr>\n",
       "  </thead>\n",
       "  <tbody>\n",
       "    <tr>\n",
       "      <th>1970-01-01</th>\n",
       "      <td>NaN</td>\n",
       "      <td>6.355725e+10</td>\n",
       "      <td>25.154467</td>\n",
       "      <td>31.620100</td>\n",
       "      <td>12.784633</td>\n",
       "      <td>11.314692</td>\n",
       "      <td>10.873145</td>\n",
       "      <td>1.247428</td>\n",
       "    </tr>\n",
       "    <tr>\n",
       "      <th>1970-04-01</th>\n",
       "      <td>NaN</td>\n",
       "      <td>6.568328e+10</td>\n",
       "      <td>25.412633</td>\n",
       "      <td>31.900933</td>\n",
       "      <td>12.861467</td>\n",
       "      <td>11.390358</td>\n",
       "      <td>9.807037</td>\n",
       "      <td>1.306829</td>\n",
       "    </tr>\n",
       "    <tr>\n",
       "      <th>1970-07-01</th>\n",
       "      <td>NaN</td>\n",
       "      <td>6.706184e+10</td>\n",
       "      <td>25.781500</td>\n",
       "      <td>31.947800</td>\n",
       "      <td>12.946200</td>\n",
       "      <td>12.117531</td>\n",
       "      <td>9.271091</td>\n",
       "      <td>1.348410</td>\n",
       "    </tr>\n",
       "    <tr>\n",
       "      <th>1970-10-01</th>\n",
       "      <td>NaN</td>\n",
       "      <td>6.790094e+10</td>\n",
       "      <td>26.002767</td>\n",
       "      <td>32.252033</td>\n",
       "      <td>13.017667</td>\n",
       "      <td>12.248969</td>\n",
       "      <td>8.835394</td>\n",
       "      <td>1.401871</td>\n",
       "    </tr>\n",
       "    <tr>\n",
       "      <th>1971-01-01</th>\n",
       "      <td>NaN</td>\n",
       "      <td>6.437505e+10</td>\n",
       "      <td>26.260967</td>\n",
       "      <td>33.024367</td>\n",
       "      <td>13.290433</td>\n",
       "      <td>12.077389</td>\n",
       "      <td>9.699077</td>\n",
       "      <td>1.490974</td>\n",
       "    </tr>\n",
       "  </tbody>\n",
       "</table>\n",
       "</div>"
      ],
      "text/plain": [
       "           GDP                Inflation                       StockPrices  \\\n",
       "           DEU           FIN        AUT        DEU        FIN         AUT   \n",
       "1970-01-01 NaN  6.355725e+10  25.154467  31.620100  12.784633   11.314692   \n",
       "1970-04-01 NaN  6.568328e+10  25.412633  31.900933  12.861467   11.390358   \n",
       "1970-07-01 NaN  6.706184e+10  25.781500  31.947800  12.946200   12.117531   \n",
       "1970-10-01 NaN  6.790094e+10  26.002767  32.252033  13.017667   12.248969   \n",
       "1971-01-01 NaN  6.437505e+10  26.260967  33.024367  13.290433   12.077389   \n",
       "\n",
       "                                 \n",
       "                  DEU       FIN  \n",
       "1970-01-01  10.873145  1.247428  \n",
       "1970-04-01   9.807037  1.306829  \n",
       "1970-07-01   9.271091  1.348410  \n",
       "1970-10-01   8.835394  1.401871  \n",
       "1971-01-01   9.699077  1.490974  "
      ]
     },
     "execution_count": 5,
     "metadata": {},
     "output_type": "execute_result"
    }
   ],
   "source": [
    "df = do.ReturnDf()\n",
    "df.head()"
   ]
  },
  {
   "cell_type": "markdown",
   "metadata": {},
   "source": [
    "## Demonstate variable and entity selections\n",
    "We'll demonstate how variables and entities are selected into methods that operate on the underlying data frame. The logic in other moethods is the same as in here with method GetVaribales() that just displays chosen variables."
   ]
  },
  {
   "cell_type": "code",
   "execution_count": 6,
   "metadata": {},
   "outputs": [
    {
     "data": {
      "text/html": [
       "<div>\n",
       "<style scoped>\n",
       "    .dataframe tbody tr th:only-of-type {\n",
       "        vertical-align: middle;\n",
       "    }\n",
       "\n",
       "    .dataframe tbody tr th {\n",
       "        vertical-align: top;\n",
       "    }\n",
       "\n",
       "    .dataframe thead tr th {\n",
       "        text-align: left;\n",
       "    }\n",
       "</style>\n",
       "<table border=\"1\" class=\"dataframe\">\n",
       "  <thead>\n",
       "    <tr>\n",
       "      <th></th>\n",
       "      <th colspan=\"3\" halign=\"left\">StockPrices</th>\n",
       "    </tr>\n",
       "    <tr>\n",
       "      <th></th>\n",
       "      <th>AUT</th>\n",
       "      <th>DEU</th>\n",
       "      <th>FIN</th>\n",
       "    </tr>\n",
       "  </thead>\n",
       "  <tbody>\n",
       "    <tr>\n",
       "      <th>1970-01-01</th>\n",
       "      <td>11.314692</td>\n",
       "      <td>10.873145</td>\n",
       "      <td>1.247428</td>\n",
       "    </tr>\n",
       "    <tr>\n",
       "      <th>1970-04-01</th>\n",
       "      <td>11.390358</td>\n",
       "      <td>9.807037</td>\n",
       "      <td>1.306829</td>\n",
       "    </tr>\n",
       "  </tbody>\n",
       "</table>\n",
       "</div>"
      ],
      "text/plain": [
       "           StockPrices                     \n",
       "                   AUT        DEU       FIN\n",
       "1970-01-01   11.314692  10.873145  1.247428\n",
       "1970-04-01   11.390358   9.807037  1.306829"
      ]
     },
     "execution_count": 6,
     "metadata": {},
     "output_type": "execute_result"
    }
   ],
   "source": [
    "# Get variable StockPrices for entities AUT, DEU, and FIN \n",
    "do.GetVariables(['StockPrices']).head(2)"
   ]
  },
  {
   "cell_type": "code",
   "execution_count": 7,
   "metadata": {},
   "outputs": [
    {
     "data": {
      "text/html": [
       "<div>\n",
       "<style scoped>\n",
       "    .dataframe tbody tr th:only-of-type {\n",
       "        vertical-align: middle;\n",
       "    }\n",
       "\n",
       "    .dataframe tbody tr th {\n",
       "        vertical-align: top;\n",
       "    }\n",
       "\n",
       "    .dataframe thead tr th {\n",
       "        text-align: left;\n",
       "    }\n",
       "</style>\n",
       "<table border=\"1\" class=\"dataframe\">\n",
       "  <thead>\n",
       "    <tr>\n",
       "      <th></th>\n",
       "      <th colspan=\"2\" halign=\"left\">GDP</th>\n",
       "      <th colspan=\"2\" halign=\"left\">StockPrices</th>\n",
       "    </tr>\n",
       "    <tr>\n",
       "      <th></th>\n",
       "      <th>DEU</th>\n",
       "      <th>FIN</th>\n",
       "      <th>DEU</th>\n",
       "      <th>FIN</th>\n",
       "    </tr>\n",
       "  </thead>\n",
       "  <tbody>\n",
       "    <tr>\n",
       "      <th>1970-01-01</th>\n",
       "      <td>NaN</td>\n",
       "      <td>6.355725e+10</td>\n",
       "      <td>10.873145</td>\n",
       "      <td>1.247428</td>\n",
       "    </tr>\n",
       "    <tr>\n",
       "      <th>1970-04-01</th>\n",
       "      <td>NaN</td>\n",
       "      <td>6.568328e+10</td>\n",
       "      <td>9.807037</td>\n",
       "      <td>1.306829</td>\n",
       "    </tr>\n",
       "  </tbody>\n",
       "</table>\n",
       "</div>"
      ],
      "text/plain": [
       "           GDP               StockPrices          \n",
       "           DEU           FIN         DEU       FIN\n",
       "1970-01-01 NaN  6.355725e+10   10.873145  1.247428\n",
       "1970-04-01 NaN  6.568328e+10    9.807037  1.306829"
      ]
     },
     "execution_count": 7,
     "metadata": {},
     "output_type": "execute_result"
    }
   ],
   "source": [
    "# Get variable StockPrices and GDP by implicitly selecting entities.\n",
    "# GDP not present for AUT, hence what will be returned are variables\n",
    "# for DEU and FIN only!\n",
    "do.GetVariables(['StockPrices','GDP']).head(2)"
   ]
  },
  {
   "cell_type": "code",
   "execution_count": 8,
   "metadata": {},
   "outputs": [
    {
     "ename": "MyException",
     "evalue": "VariablesCheck: Not all required variables present for AUT.",
     "output_type": "error",
     "traceback": [
      "\u001b[1;31m---------------------------------------------------------------------------\u001b[0m",
      "\u001b[1;31mMyException\u001b[0m                               Traceback (most recent call last)",
      "\u001b[1;32m<ipython-input-8-2e341cfdf598>\u001b[0m in \u001b[0;36m<module>\u001b[1;34m()\u001b[0m\n\u001b[0;32m      2\u001b[0m \u001b[1;31m# inputted variables are present for all entities, If this is not\u001b[0m\u001b[1;33m\u001b[0m\u001b[1;33m\u001b[0m\u001b[0m\n\u001b[0;32m      3\u001b[0m \u001b[1;31m# the case, an error will be thrown.\u001b[0m\u001b[1;33m\u001b[0m\u001b[1;33m\u001b[0m\u001b[0m\n\u001b[1;32m----> 4\u001b[1;33m \u001b[0mdo\u001b[0m\u001b[1;33m.\u001b[0m\u001b[0mGetVariables\u001b[0m\u001b[1;33m(\u001b[0m\u001b[1;33m[\u001b[0m\u001b[1;34m'StockPrices'\u001b[0m\u001b[1;33m,\u001b[0m\u001b[1;34m'GDP'\u001b[0m\u001b[1;33m]\u001b[0m\u001b[1;33m,\u001b[0m \u001b[0mentities\u001b[0m\u001b[1;33m=\u001b[0m\u001b[1;33m[\u001b[0m\u001b[1;34m'FIN'\u001b[0m\u001b[1;33m,\u001b[0m\u001b[1;34m'AUT'\u001b[0m\u001b[1;33m]\u001b[0m\u001b[1;33m)\u001b[0m\u001b[1;33m.\u001b[0m\u001b[0mhead\u001b[0m\u001b[1;33m(\u001b[0m\u001b[1;36m2\u001b[0m\u001b[1;33m)\u001b[0m\u001b[1;33m\u001b[0m\u001b[0m\n\u001b[0m",
      "\u001b[1;32mD:\\MTSDataModel\\src\\MTSDataModel.py\u001b[0m in \u001b[0;36mGetVariables\u001b[1;34m(self, variables, entities)\u001b[0m\n\u001b[0;32m    175\u001b[0m         \u001b[1;31m# If entities selected, check that all variables exist for them\u001b[0m\u001b[1;33m\u001b[0m\u001b[1;33m\u001b[0m\u001b[0m\n\u001b[0;32m    176\u001b[0m         \u001b[1;32melse\u001b[0m\u001b[1;33m:\u001b[0m\u001b[1;33m\u001b[0m\u001b[0m\n\u001b[1;32m--> 177\u001b[1;33m             \u001b[0mself\u001b[0m\u001b[1;33m.\u001b[0m\u001b[0mVariablesCheck\u001b[0m\u001b[1;33m(\u001b[0m\u001b[0mvariables\u001b[0m\u001b[1;33m,\u001b[0m\u001b[0mentities\u001b[0m\u001b[1;33m)\u001b[0m\u001b[1;33m\u001b[0m\u001b[0m\n\u001b[0m\u001b[0;32m    178\u001b[0m \u001b[1;33m\u001b[0m\u001b[0m\n\u001b[0;32m    179\u001b[0m         \u001b[1;32mreturn\u001b[0m \u001b[0mself\u001b[0m\u001b[1;33m.\u001b[0m\u001b[0mdf\u001b[0m\u001b[1;33m.\u001b[0m\u001b[0miloc\u001b[0m\u001b[1;33m[\u001b[0m\u001b[1;33m:\u001b[0m\u001b[1;33m,\u001b[0m \u001b[1;33m(\u001b[0m\u001b[0mself\u001b[0m\u001b[1;33m.\u001b[0m\u001b[0mdf\u001b[0m\u001b[1;33m.\u001b[0m\u001b[0mcolumns\u001b[0m\u001b[1;33m.\u001b[0m\u001b[0mget_level_values\u001b[0m\u001b[1;33m(\u001b[0m\u001b[1;36m0\u001b[0m\u001b[1;33m)\u001b[0m\u001b[1;33m.\u001b[0m\u001b[0misin\u001b[0m\u001b[1;33m(\u001b[0m\u001b[0mvariables\u001b[0m\u001b[1;33m)\u001b[0m\u001b[1;33m)\u001b[0m \u001b[1;33m&\u001b[0m \u001b[1;33m(\u001b[0m\u001b[0mself\u001b[0m\u001b[1;33m.\u001b[0m\u001b[0mdf\u001b[0m\u001b[1;33m.\u001b[0m\u001b[0mcolumns\u001b[0m\u001b[1;33m.\u001b[0m\u001b[0mget_level_values\u001b[0m\u001b[1;33m(\u001b[0m\u001b[1;36m1\u001b[0m\u001b[1;33m)\u001b[0m\u001b[1;33m.\u001b[0m\u001b[0misin\u001b[0m\u001b[1;33m(\u001b[0m\u001b[0mentities\u001b[0m\u001b[1;33m)\u001b[0m\u001b[1;33m)\u001b[0m\u001b[1;33m]\u001b[0m\u001b[1;33m.\u001b[0m\u001b[0mcopy\u001b[0m\u001b[1;33m(\u001b[0m\u001b[1;33m)\u001b[0m\u001b[1;33m\u001b[0m\u001b[0m\n",
      "\u001b[1;32mD:\\MTSDataModel\\src\\MTSDataModel.py\u001b[0m in \u001b[0;36mVariablesCheck\u001b[1;34m(self, variables, entities)\u001b[0m\n\u001b[0;32m    223\u001b[0m             \u001b[0mframe\u001b[0m \u001b[1;33m=\u001b[0m \u001b[0mself\u001b[0m\u001b[1;33m.\u001b[0m\u001b[0mdf\u001b[0m\u001b[1;33m.\u001b[0m\u001b[0miloc\u001b[0m\u001b[1;33m[\u001b[0m\u001b[1;33m:\u001b[0m\u001b[1;33m,\u001b[0m \u001b[1;33m(\u001b[0m\u001b[0mself\u001b[0m\u001b[1;33m.\u001b[0m\u001b[0mdf\u001b[0m\u001b[1;33m.\u001b[0m\u001b[0mcolumns\u001b[0m\u001b[1;33m.\u001b[0m\u001b[0mget_level_values\u001b[0m\u001b[1;33m(\u001b[0m\u001b[1;36m0\u001b[0m\u001b[1;33m)\u001b[0m\u001b[1;33m.\u001b[0m\u001b[0misin\u001b[0m\u001b[1;33m(\u001b[0m\u001b[0mvariables\u001b[0m\u001b[1;33m)\u001b[0m\u001b[1;33m)\u001b[0m \u001b[1;33m&\u001b[0m \u001b[1;33m(\u001b[0m\u001b[0mself\u001b[0m\u001b[1;33m.\u001b[0m\u001b[0mdf\u001b[0m\u001b[1;33m.\u001b[0m\u001b[0mcolumns\u001b[0m\u001b[1;33m.\u001b[0m\u001b[0mget_level_values\u001b[0m\u001b[1;33m(\u001b[0m\u001b[1;36m1\u001b[0m\u001b[1;33m)\u001b[0m \u001b[1;33m==\u001b[0m \u001b[0mentity\u001b[0m\u001b[1;33m)\u001b[0m\u001b[1;33m]\u001b[0m\u001b[1;33m.\u001b[0m\u001b[0mcopy\u001b[0m\u001b[1;33m(\u001b[0m\u001b[1;33m)\u001b[0m\u001b[1;33m\u001b[0m\u001b[0m\n\u001b[0;32m    224\u001b[0m             \u001b[1;32mif\u001b[0m \u001b[0mset\u001b[0m\u001b[1;33m(\u001b[0m\u001b[0mvariables\u001b[0m\u001b[1;33m)\u001b[0m\u001b[1;33m.\u001b[0m\u001b[0missubset\u001b[0m\u001b[1;33m(\u001b[0m\u001b[0mframe\u001b[0m\u001b[1;33m.\u001b[0m\u001b[0mcolumns\u001b[0m\u001b[1;33m.\u001b[0m\u001b[0mget_level_values\u001b[0m\u001b[1;33m(\u001b[0m\u001b[1;36m0\u001b[0m\u001b[1;33m)\u001b[0m\u001b[1;33m)\u001b[0m \u001b[1;33m==\u001b[0m \u001b[1;32mFalse\u001b[0m\u001b[1;33m:\u001b[0m\u001b[1;33m\u001b[0m\u001b[0m\n\u001b[1;32m--> 225\u001b[1;33m                 \u001b[1;32mraise\u001b[0m \u001b[0mMyException\u001b[0m\u001b[1;33m(\u001b[0m\u001b[1;34m\"VariablesCheck: Not all required variables present for \"\u001b[0m \u001b[1;33m+\u001b[0m \u001b[0mentity\u001b[0m \u001b[1;33m+\u001b[0m \u001b[1;34m\".\"\u001b[0m\u001b[1;33m)\u001b[0m\u001b[1;33m\u001b[0m\u001b[0m\n\u001b[0m\u001b[0;32m    226\u001b[0m \u001b[1;33m\u001b[0m\u001b[0m\n\u001b[0;32m    227\u001b[0m     \u001b[1;31m####################\u001b[0m\u001b[1;33m\u001b[0m\u001b[1;33m\u001b[0m\u001b[0m\n",
      "\u001b[1;31mMyException\u001b[0m: VariablesCheck: Not all required variables present for AUT."
     ]
    }
   ],
   "source": [
    "# When entity list is passed in explicitly, it is required that \n",
    "# inputted variables are present for all entities, If this is not\n",
    "# the case, an error will be thrown.\n",
    "do.GetVariables(['StockPrices','GDP'], entities=['FIN','AUT']).head(2)"
   ]
  },
  {
   "cell_type": "code",
   "execution_count": 9,
   "metadata": {},
   "outputs": [
    {
     "data": {
      "text/html": [
       "<div>\n",
       "<style scoped>\n",
       "    .dataframe tbody tr th:only-of-type {\n",
       "        vertical-align: middle;\n",
       "    }\n",
       "\n",
       "    .dataframe tbody tr th {\n",
       "        vertical-align: top;\n",
       "    }\n",
       "\n",
       "    .dataframe thead tr th {\n",
       "        text-align: left;\n",
       "    }\n",
       "</style>\n",
       "<table border=\"1\" class=\"dataframe\">\n",
       "  <thead>\n",
       "    <tr>\n",
       "      <th></th>\n",
       "      <th>GDP</th>\n",
       "      <th>Inflation</th>\n",
       "      <th>StockPrices</th>\n",
       "    </tr>\n",
       "    <tr>\n",
       "      <th></th>\n",
       "      <th>FIN</th>\n",
       "      <th>FIN</th>\n",
       "      <th>FIN</th>\n",
       "    </tr>\n",
       "  </thead>\n",
       "  <tbody>\n",
       "    <tr>\n",
       "      <th>1970-01-01</th>\n",
       "      <td>6.355725e+10</td>\n",
       "      <td>12.784633</td>\n",
       "      <td>1.247428</td>\n",
       "    </tr>\n",
       "    <tr>\n",
       "      <th>1970-04-01</th>\n",
       "      <td>6.568328e+10</td>\n",
       "      <td>12.861467</td>\n",
       "      <td>1.306829</td>\n",
       "    </tr>\n",
       "  </tbody>\n",
       "</table>\n",
       "</div>"
      ],
      "text/plain": [
       "                     GDP  Inflation StockPrices\n",
       "                     FIN        FIN         FIN\n",
       "1970-01-01  6.355725e+10  12.784633    1.247428\n",
       "1970-04-01  6.568328e+10  12.861467    1.306829"
      ]
     },
     "execution_count": 9,
     "metadata": {},
     "output_type": "execute_result"
    }
   ],
   "source": [
    "# Variables only for FIN.\n",
    "do.GetVariables(['StockPrices','GDP','Inflation'], entities=['FIN']).head(2)"
   ]
  },
  {
   "cell_type": "code",
   "execution_count": 10,
   "metadata": {},
   "outputs": [
    {
     "ename": "MyException",
     "evalue": "EntitiesDefault: Not all variables present for given entities list.",
     "output_type": "error",
     "traceback": [
      "\u001b[1;31m---------------------------------------------------------------------------\u001b[0m",
      "\u001b[1;31mMyException\u001b[0m                               Traceback (most recent call last)",
      "\u001b[1;32m<ipython-input-10-9ee69e895366>\u001b[0m in \u001b[0;36m<module>\u001b[1;34m()\u001b[0m\n\u001b[0;32m      1\u001b[0m \u001b[1;31m# This will throw an error: variable Credit does not exist in data.\u001b[0m\u001b[1;33m\u001b[0m\u001b[1;33m\u001b[0m\u001b[0m\n\u001b[1;32m----> 2\u001b[1;33m \u001b[0mdo\u001b[0m\u001b[1;33m.\u001b[0m\u001b[0mGetVariables\u001b[0m\u001b[1;33m(\u001b[0m\u001b[1;33m[\u001b[0m\u001b[1;34m'Credit'\u001b[0m\u001b[1;33m]\u001b[0m\u001b[1;33m)\u001b[0m\u001b[1;33m\u001b[0m\u001b[0m\n\u001b[0m",
      "\u001b[1;32mD:\\MTSDataModel\\src\\MTSDataModel.py\u001b[0m in \u001b[0;36mGetVariables\u001b[1;34m(self, variables, entities)\u001b[0m\n\u001b[0;32m    172\u001b[0m         \u001b[1;31m# If no entities selected, get those for which all given variables exists\u001b[0m\u001b[1;33m\u001b[0m\u001b[1;33m\u001b[0m\u001b[0m\n\u001b[0;32m    173\u001b[0m         \u001b[1;32mif\u001b[0m \u001b[0mentities\u001b[0m \u001b[1;33m==\u001b[0m \u001b[1;32mNone\u001b[0m\u001b[1;33m:\u001b[0m\u001b[1;33m\u001b[0m\u001b[0m\n\u001b[1;32m--> 174\u001b[1;33m             \u001b[0mentities\u001b[0m \u001b[1;33m=\u001b[0m \u001b[0mself\u001b[0m\u001b[1;33m.\u001b[0m\u001b[0mEntitiesDefault\u001b[0m\u001b[1;33m(\u001b[0m\u001b[0mvariables\u001b[0m\u001b[1;33m)\u001b[0m\u001b[1;33m\u001b[0m\u001b[0m\n\u001b[0m\u001b[0;32m    175\u001b[0m         \u001b[1;31m# If entities selected, check that all variables exist for them\u001b[0m\u001b[1;33m\u001b[0m\u001b[1;33m\u001b[0m\u001b[0m\n\u001b[0;32m    176\u001b[0m         \u001b[1;32melse\u001b[0m\u001b[1;33m:\u001b[0m\u001b[1;33m\u001b[0m\u001b[0m\n",
      "\u001b[1;32mD:\\MTSDataModel\\src\\MTSDataModel.py\u001b[0m in \u001b[0;36mEntitiesDefault\u001b[1;34m(self, variables)\u001b[0m\n\u001b[0;32m    214\u001b[0m         \u001b[1;31m# If no entities found, this means no variables found. Return error.\u001b[0m\u001b[1;33m\u001b[0m\u001b[1;33m\u001b[0m\u001b[0m\n\u001b[0;32m    215\u001b[0m         \u001b[1;32mif\u001b[0m \u001b[0mlen\u001b[0m\u001b[1;33m(\u001b[0m\u001b[0mentities\u001b[0m\u001b[1;33m)\u001b[0m \u001b[1;33m==\u001b[0m \u001b[1;36m0\u001b[0m\u001b[1;33m:\u001b[0m\u001b[1;33m\u001b[0m\u001b[0m\n\u001b[1;32m--> 216\u001b[1;33m             \u001b[1;32mraise\u001b[0m \u001b[0mMyException\u001b[0m\u001b[1;33m(\u001b[0m\u001b[1;34m\"EntitiesDefault: Not all variables present for given entities list.\"\u001b[0m\u001b[1;33m)\u001b[0m\u001b[1;33m\u001b[0m\u001b[0m\n\u001b[0m\u001b[0;32m    217\u001b[0m         \u001b[1;32melse\u001b[0m\u001b[1;33m:\u001b[0m\u001b[1;33m\u001b[0m\u001b[0m\n\u001b[0;32m    218\u001b[0m             \u001b[1;32mreturn\u001b[0m \u001b[0mentities\u001b[0m\u001b[1;33m\u001b[0m\u001b[0m\n",
      "\u001b[1;31mMyException\u001b[0m: EntitiesDefault: Not all variables present for given entities list."
     ]
    }
   ],
   "source": [
    "# This will throw an error: variable Credit does not exist in data.\n",
    "do.GetVariables(['Credit'])"
   ]
  },
  {
   "cell_type": "markdown",
   "metadata": {},
   "source": [
    "## Pre-processing"
   ]
  },
  {
   "cell_type": "markdown",
   "metadata": {},
   "source": [
    "### Deflate"
   ]
  },
  {
   "cell_type": "code",
   "execution_count": 11,
   "metadata": {},
   "outputs": [
    {
     "name": "stderr",
     "output_type": "stream",
     "text": [
      "C:\\Users\\ville_000\\Anaconda3\\lib\\site-packages\\pandas\\core\\frame.py:4025: SettingWithCopyWarning: \n",
      "A value is trying to be set on a copy of a slice from a DataFrame\n",
      "\n",
      "See the caveats in the documentation: http://pandas.pydata.org/pandas-docs/stable/indexing.html#indexing-view-versus-copy\n",
      "  return super(DataFrame, self).rename(**kwargs)\n",
      "../src\\MTSDataModel.py:261: SettingWithCopyWarning: \n",
      "A value is trying to be set on a copy of a slice from a DataFrame.\n",
      "Try using .loc[row_indexer,col_indexer] = value instead\n",
      "\n",
      "See the caveats in the documentation: http://pandas.pydata.org/pandas-docs/stable/indexing.html#indexing-view-versus-copy\n",
      "  frame['X_hat'] = self.Deflate(frame)\n",
      "C:\\Users\\ville_000\\Anaconda3\\lib\\site-packages\\pandas\\core\\frame.py:4025: SettingWithCopyWarning: \n",
      "A value is trying to be set on a copy of a slice from a DataFrame\n",
      "\n",
      "See the caveats in the documentation: http://pandas.pydata.org/pandas-docs/stable/indexing.html#indexing-view-versus-copy\n",
      "  return super(DataFrame, self).rename(**kwargs)\n"
     ]
    },
    {
     "data": {
      "text/html": [
       "<div>\n",
       "<style scoped>\n",
       "    .dataframe tbody tr th:only-of-type {\n",
       "        vertical-align: middle;\n",
       "    }\n",
       "\n",
       "    .dataframe tbody tr th {\n",
       "        vertical-align: top;\n",
       "    }\n",
       "\n",
       "    .dataframe thead tr th {\n",
       "        text-align: left;\n",
       "    }\n",
       "</style>\n",
       "<table border=\"1\" class=\"dataframe\">\n",
       "  <thead>\n",
       "    <tr>\n",
       "      <th></th>\n",
       "      <th colspan=\"2\" halign=\"left\">GDP</th>\n",
       "      <th colspan=\"3\" halign=\"left\">Inflation</th>\n",
       "      <th colspan=\"3\" halign=\"left\">StockPrices</th>\n",
       "      <th colspan=\"3\" halign=\"left\">StockPrices_def</th>\n",
       "    </tr>\n",
       "    <tr>\n",
       "      <th></th>\n",
       "      <th>DEU</th>\n",
       "      <th>FIN</th>\n",
       "      <th>AUT</th>\n",
       "      <th>DEU</th>\n",
       "      <th>FIN</th>\n",
       "      <th>AUT</th>\n",
       "      <th>DEU</th>\n",
       "      <th>FIN</th>\n",
       "      <th>AUT</th>\n",
       "      <th>DEU</th>\n",
       "      <th>FIN</th>\n",
       "    </tr>\n",
       "  </thead>\n",
       "  <tbody>\n",
       "    <tr>\n",
       "      <th>1970-01-01</th>\n",
       "      <td>NaN</td>\n",
       "      <td>6.355725e+10</td>\n",
       "      <td>25.154467</td>\n",
       "      <td>31.620100</td>\n",
       "      <td>12.784633</td>\n",
       "      <td>11.314692</td>\n",
       "      <td>10.873145</td>\n",
       "      <td>1.247428</td>\n",
       "      <td>11.314692</td>\n",
       "      <td>10.873145</td>\n",
       "      <td>1.247428</td>\n",
       "    </tr>\n",
       "    <tr>\n",
       "      <th>1970-04-01</th>\n",
       "      <td>NaN</td>\n",
       "      <td>6.568328e+10</td>\n",
       "      <td>25.412633</td>\n",
       "      <td>31.900933</td>\n",
       "      <td>12.861467</td>\n",
       "      <td>11.390358</td>\n",
       "      <td>9.807037</td>\n",
       "      <td>1.306829</td>\n",
       "      <td>11.274643</td>\n",
       "      <td>9.720703</td>\n",
       "      <td>1.299022</td>\n",
       "    </tr>\n",
       "  </tbody>\n",
       "</table>\n",
       "</div>"
      ],
      "text/plain": [
       "           GDP                Inflation                       StockPrices  \\\n",
       "           DEU           FIN        AUT        DEU        FIN         AUT   \n",
       "1970-01-01 NaN  6.355725e+10  25.154467  31.620100  12.784633   11.314692   \n",
       "1970-04-01 NaN  6.568328e+10  25.412633  31.900933  12.861467   11.390358   \n",
       "\n",
       "                                StockPrices_def                       \n",
       "                  DEU       FIN             AUT        DEU       FIN  \n",
       "1970-01-01  10.873145  1.247428       11.314692  10.873145  1.247428  \n",
       "1970-04-01   9.807037  1.306829       11.274643   9.720703  1.299022  "
      ]
     },
     "execution_count": 11,
     "metadata": {},
     "output_type": "execute_result"
    }
   ],
   "source": [
    "# Defaltes variable StockPrices for al entities for which variables\n",
    "# StockPrices and Inflation are present \n",
    "do.DeflateVariables(['StockPrices'], infvar = 'Inflation')\n",
    "do.ReturnDf().head(2)"
   ]
  },
  {
   "cell_type": "markdown",
   "metadata": {},
   "source": [
    "### De-trend"
   ]
  },
  {
   "cell_type": "code",
   "execution_count": 12,
   "metadata": {},
   "outputs": [],
   "source": [
    "# StockPrices_def available for AUT, DEU, and FIN. GDP available only DEU and FIN\n",
    "# With below implicit selection varibales would get de-trended only for DEU and FIN.\n",
    "#do.DetrendVariables(['StockPrices_def','GDP'], difftype = 'ld')\n",
    "\n",
    "# This will result in error as GDP not available for AUT\n",
    "#do.DetrendVariables(['StockPrices_def','GDP'], entities=['AUT','DEU','FIN'], difftype = 'ld')\n",
    "\n",
    "# To de-trend StockPrices_def for AUT, DEU, and FIN as well as GDP for\n",
    "# DEU and FIN. We can do two implicit entities selections:\n",
    "do.DetrendVariables(['StockPrices_def'], dttype = 'ld1')\n",
    "do.DetrendVariables(['GDP'], dttype = 'ld1')\n",
    "\n",
    "# Simple logs\n",
    "do.DetrendVariables(['GDP'], dttype = 'lg')"
   ]
  },
  {
   "cell_type": "markdown",
   "metadata": {},
   "source": [
    "## Feature engineering"
   ]
  },
  {
   "cell_type": "markdown",
   "metadata": {},
   "source": [
    "### Wavelet MRA decompositions"
   ]
  },
  {
   "cell_type": "code",
   "execution_count": 17,
   "metadata": {},
   "outputs": [
    {
     "data": {
      "image/png": "[encoded data removed]",
      "text/plain": [
       "<matplotlib.figure.Figure at 0x24b0fcab080>"
      ]
     },
     "metadata": {
      "needs_background": "light"
     },
     "output_type": "display_data"
    }
   ],
   "source": [
    "do.MRADecomposition(variables = ['StockPrices_def_ld1'], entities=['FIN'],levels = 6, minobsamount=40, expanding='expanding')\n",
    "do.MRADecomposition(variables = ['StockPrices_def_ld1'], entities=['FIN'],levels = 6, minobsamount=40)\n",
    "do.PlotVariables(['StockPrices_def_ld1_wl4','StockPrices_def_ld1_wl4_exp'],['FIN'])"
   ]
  },
  {
   "cell_type": "markdown",
   "metadata": {},
   "source": [
    "### Dimension reduction"
   ]
  },
  {
   "cell_type": "code",
   "execution_count": null,
   "metadata": {},
   "outputs": [],
   "source": [
    "do.ReduceVariableDimension(suffix = 'PC', variables = ['StockPrices_def_ld1','GDP_ld1'] , entities = ['FIN','DEU'])"
   ]
  },
  {
   "cell_type": "markdown",
   "metadata": {},
   "source": [
    "### Sum variables"
   ]
  },
  {
   "cell_type": "code",
   "execution_count": null,
   "metadata": {},
   "outputs": [],
   "source": [
    "variables = ['GDP_ld1','StockPrices_def_ld1']\n",
    "do.SumVariables(variables,name=\"gdp+stock\")\n",
    "\n",
    "do.ReturnDf().head(2)"
   ]
  },
  {
   "cell_type": "markdown",
   "metadata": {},
   "source": [
    "## Plot"
   ]
  },
  {
   "cell_type": "code",
   "execution_count": null,
   "metadata": {},
   "outputs": [],
   "source": [
    "fig = plt.figure(figsize=(15,7))\n",
    "ax = fig.add_subplot(1,1,1)\n",
    "do.PlotVariables(variables=['StockPrices_def_ld1','GDP_ld1','PC','GDP_ld1_wl5'], entities=['FIN'], ax=ax)"
   ]
  },
  {
   "cell_type": "code",
   "execution_count": null,
   "metadata": {},
   "outputs": [],
   "source": []
  }
 ],
 "metadata": {
  "kernelspec": {
   "display_name": "Python [default]",
   "language": "python",
   "name": "python3"
  },
  "language_info": {
   "codemirror_mode": {
    "name": "ipython",
    "version": 3
   },
   "file_extension": ".py",
   "mimetype": "text/x-python",
   "name": "python",
   "nbconvert_exporter": "python",
   "pygments_lexer": "ipython3",
   "version": "3.5.4"
  },
  "toc-showcode": false,
  "toc-showmarkdowntxt": false
 },
 "nbformat": 4,
 "nbformat_minor": 2
}
