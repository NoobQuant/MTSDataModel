{
 "cells": [
  {
   "cell_type": "markdown",
   "metadata": {},
   "source": [
    "# Examples on using MTSDataModel"
   ]
  },
  {
   "cell_type": "markdown",
   "metadata": {},
   "source": [
    "## Load modules"
   ]
  },
  {
   "cell_type": "code",
   "execution_count": 1,
   "metadata": {},
   "outputs": [],
   "source": [
    "%load_ext autoreload\n",
    "%autoreload 2"
   ]
  },
  {
   "cell_type": "code",
   "execution_count": 2,
   "metadata": {},
   "outputs": [],
   "source": [
    "import sys\n",
    "sys.path.insert(0,r'../src/')\n",
    "import MTSDataModel as mts"
   ]
  },
  {
   "cell_type": "code",
   "execution_count": 3,
   "metadata": {},
   "outputs": [],
   "source": [
    "import pandas as pd\n",
    "import numpy as np\n",
    "%matplotlib inline\n",
    "from matplotlib import pyplot as plt\n",
    "import rpy2"
   ]
  },
  {
   "cell_type": "markdown",
   "metadata": {},
   "source": [
    "## Get data"
   ]
  },
  {
   "cell_type": "code",
   "execution_count": 4,
   "metadata": {},
   "outputs": [],
   "source": [
    "filename = 'sample_data.csv'\n",
    "colnames = {'level1': 'Variable', 'level2': 'Country', 'value': 'Value','index': 'Date'}\n",
    "do = mts.MTSDataModel(filepath = filename, colnames = colnames)"
   ]
  },
  {
   "cell_type": "code",
   "execution_count": 5,
   "metadata": {},
   "outputs": [
    {
     "data": {
      "text/html": [
       "<div>\n",
       "<style scoped>\n",
       "    .dataframe tbody tr th:only-of-type {\n",
       "        vertical-align: middle;\n",
       "    }\n",
       "\n",
       "    .dataframe tbody tr th {\n",
       "        vertical-align: top;\n",
       "    }\n",
       "\n",
       "    .dataframe thead tr th {\n",
       "        text-align: left;\n",
       "    }\n",
       "</style>\n",
       "<table border=\"1\" class=\"dataframe\">\n",
       "  <thead>\n",
       "    <tr>\n",
       "      <th></th>\n",
       "      <th colspan=\"2\" halign=\"left\">GDP</th>\n",
       "      <th colspan=\"3\" halign=\"left\">Inflation</th>\n",
       "      <th colspan=\"3\" halign=\"left\">StockPrices</th>\n",
       "    </tr>\n",
       "    <tr>\n",
       "      <th></th>\n",
       "      <th>DEU</th>\n",
       "      <th>FIN</th>\n",
       "      <th>AUT</th>\n",
       "      <th>DEU</th>\n",
       "      <th>FIN</th>\n",
       "      <th>AUT</th>\n",
       "      <th>DEU</th>\n",
       "      <th>FIN</th>\n",
       "    </tr>\n",
       "  </thead>\n",
       "  <tbody>\n",
       "    <tr>\n",
       "      <th>1970-01-01</th>\n",
       "      <td>NaN</td>\n",
       "      <td>6.355725e+10</td>\n",
       "      <td>25.154467</td>\n",
       "      <td>31.620100</td>\n",
       "      <td>12.784633</td>\n",
       "      <td>11.314692</td>\n",
       "      <td>10.873145</td>\n",
       "      <td>1.247428</td>\n",
       "    </tr>\n",
       "    <tr>\n",
       "      <th>1970-04-01</th>\n",
       "      <td>NaN</td>\n",
       "      <td>6.568328e+10</td>\n",
       "      <td>25.412633</td>\n",
       "      <td>31.900933</td>\n",
       "      <td>12.861467</td>\n",
       "      <td>11.390358</td>\n",
       "      <td>9.807037</td>\n",
       "      <td>1.306829</td>\n",
       "    </tr>\n",
       "  </tbody>\n",
       "</table>\n",
       "</div>"
      ],
      "text/plain": [
       "           GDP                Inflation                       StockPrices  \\\n",
       "           DEU           FIN        AUT        DEU        FIN         AUT   \n",
       "1970-01-01 NaN  6.355725e+10  25.154467  31.620100  12.784633   11.314692   \n",
       "1970-04-01 NaN  6.568328e+10  25.412633  31.900933  12.861467   11.390358   \n",
       "\n",
       "                                 \n",
       "                  DEU       FIN  \n",
       "1970-01-01  10.873145  1.247428  \n",
       "1970-04-01   9.807037  1.306829  "
      ]
     },
     "execution_count": 5,
     "metadata": {},
     "output_type": "execute_result"
    }
   ],
   "source": [
    "df = do.ReturnDf()\n",
    "df.head(2)"
   ]
  },
  {
   "cell_type": "markdown",
   "metadata": {},
   "source": [
    "## Demonstate variable and entity selections\n",
    "We'll demonstate how variables and entities are selected into methods that operate on the underlying data frame. The underlying principle is that by default selection and operations are performed only on full variable/entity pairs. If entities list is not specified, operations perform only on entities for which all inputted variables are present.\n",
    "\n",
    "The logic in other methods is the same as in here with method GetVaribales() that just displays chosen variables."
   ]
  },
  {
   "cell_type": "code",
   "execution_count": 6,
   "metadata": {},
   "outputs": [
    {
     "data": {
      "text/html": [
       "<div>\n",
       "<style scoped>\n",
       "    .dataframe tbody tr th:only-of-type {\n",
       "        vertical-align: middle;\n",
       "    }\n",
       "\n",
       "    .dataframe tbody tr th {\n",
       "        vertical-align: top;\n",
       "    }\n",
       "\n",
       "    .dataframe thead tr th {\n",
       "        text-align: left;\n",
       "    }\n",
       "</style>\n",
       "<table border=\"1\" class=\"dataframe\">\n",
       "  <thead>\n",
       "    <tr>\n",
       "      <th></th>\n",
       "      <th colspan=\"3\" halign=\"left\">StockPrices</th>\n",
       "    </tr>\n",
       "    <tr>\n",
       "      <th></th>\n",
       "      <th>AUT</th>\n",
       "      <th>DEU</th>\n",
       "      <th>FIN</th>\n",
       "    </tr>\n",
       "  </thead>\n",
       "  <tbody>\n",
       "    <tr>\n",
       "      <th>1970-01-01</th>\n",
       "      <td>11.314692</td>\n",
       "      <td>10.873145</td>\n",
       "      <td>1.247428</td>\n",
       "    </tr>\n",
       "    <tr>\n",
       "      <th>1970-04-01</th>\n",
       "      <td>11.390358</td>\n",
       "      <td>9.807037</td>\n",
       "      <td>1.306829</td>\n",
       "    </tr>\n",
       "  </tbody>\n",
       "</table>\n",
       "</div>"
      ],
      "text/plain": [
       "           StockPrices                     \n",
       "                   AUT        DEU       FIN\n",
       "1970-01-01   11.314692  10.873145  1.247428\n",
       "1970-04-01   11.390358   9.807037  1.306829"
      ]
     },
     "execution_count": 6,
     "metadata": {},
     "output_type": "execute_result"
    }
   ],
   "source": [
    "# Get variable StockPrices for entities AUT, DEU, and FIN \n",
    "do.GetVariables(['StockPrices']).head(2)"
   ]
  },
  {
   "cell_type": "code",
   "execution_count": 7,
   "metadata": {},
   "outputs": [
    {
     "data": {
      "text/html": [
       "<div>\n",
       "<style scoped>\n",
       "    .dataframe tbody tr th:only-of-type {\n",
       "        vertical-align: middle;\n",
       "    }\n",
       "\n",
       "    .dataframe tbody tr th {\n",
       "        vertical-align: top;\n",
       "    }\n",
       "\n",
       "    .dataframe thead tr th {\n",
       "        text-align: left;\n",
       "    }\n",
       "</style>\n",
       "<table border=\"1\" class=\"dataframe\">\n",
       "  <thead>\n",
       "    <tr>\n",
       "      <th></th>\n",
       "      <th colspan=\"2\" halign=\"left\">GDP</th>\n",
       "      <th colspan=\"2\" halign=\"left\">StockPrices</th>\n",
       "    </tr>\n",
       "    <tr>\n",
       "      <th></th>\n",
       "      <th>DEU</th>\n",
       "      <th>FIN</th>\n",
       "      <th>DEU</th>\n",
       "      <th>FIN</th>\n",
       "    </tr>\n",
       "  </thead>\n",
       "  <tbody>\n",
       "    <tr>\n",
       "      <th>1970-01-01</th>\n",
       "      <td>NaN</td>\n",
       "      <td>6.355725e+10</td>\n",
       "      <td>10.873145</td>\n",
       "      <td>1.247428</td>\n",
       "    </tr>\n",
       "    <tr>\n",
       "      <th>1970-04-01</th>\n",
       "      <td>NaN</td>\n",
       "      <td>6.568328e+10</td>\n",
       "      <td>9.807037</td>\n",
       "      <td>1.306829</td>\n",
       "    </tr>\n",
       "  </tbody>\n",
       "</table>\n",
       "</div>"
      ],
      "text/plain": [
       "           GDP               StockPrices          \n",
       "           DEU           FIN         DEU       FIN\n",
       "1970-01-01 NaN  6.355725e+10   10.873145  1.247428\n",
       "1970-04-01 NaN  6.568328e+10    9.807037  1.306829"
      ]
     },
     "execution_count": 7,
     "metadata": {},
     "output_type": "execute_result"
    }
   ],
   "source": [
    "# Get variable StockPrices and GDP by implicitly selecting entities.\n",
    "# GDP not present for AUT, hence what will be returned are variables\n",
    "# for DEU and FIN only!\n",
    "do.GetVariables(['StockPrices','GDP']).head(2)"
   ]
  },
  {
   "cell_type": "code",
   "execution_count": 8,
   "metadata": {},
   "outputs": [
    {
     "ename": "MyException",
     "evalue": "VariablesCheck: Not all required variables present for AUT.",
     "output_type": "error",
     "traceback": [
      "\u001b[1;31m---------------------------------------------------------------------------\u001b[0m",
      "\u001b[1;31mMyException\u001b[0m                               Traceback (most recent call last)",
      "\u001b[1;32m<ipython-input-8-2e341cfdf598>\u001b[0m in \u001b[0;36m<module>\u001b[1;34m\u001b[0m\n\u001b[0;32m      2\u001b[0m \u001b[1;31m# inputted variables are present for all entities, If this is not\u001b[0m\u001b[1;33m\u001b[0m\u001b[1;33m\u001b[0m\u001b[1;33m\u001b[0m\u001b[0m\n\u001b[0;32m      3\u001b[0m \u001b[1;31m# the case, an error will be thrown.\u001b[0m\u001b[1;33m\u001b[0m\u001b[1;33m\u001b[0m\u001b[1;33m\u001b[0m\u001b[0m\n\u001b[1;32m----> 4\u001b[1;33m \u001b[0mdo\u001b[0m\u001b[1;33m.\u001b[0m\u001b[0mGetVariables\u001b[0m\u001b[1;33m(\u001b[0m\u001b[1;33m[\u001b[0m\u001b[1;34m'StockPrices'\u001b[0m\u001b[1;33m,\u001b[0m\u001b[1;34m'GDP'\u001b[0m\u001b[1;33m]\u001b[0m\u001b[1;33m,\u001b[0m \u001b[0mentities\u001b[0m\u001b[1;33m=\u001b[0m\u001b[1;33m[\u001b[0m\u001b[1;34m'FIN'\u001b[0m\u001b[1;33m,\u001b[0m\u001b[1;34m'AUT'\u001b[0m\u001b[1;33m]\u001b[0m\u001b[1;33m)\u001b[0m\u001b[1;33m.\u001b[0m\u001b[0mhead\u001b[0m\u001b[1;33m(\u001b[0m\u001b[1;36m2\u001b[0m\u001b[1;33m)\u001b[0m\u001b[1;33m\u001b[0m\u001b[1;33m\u001b[0m\u001b[0m\n\u001b[0m",
      "\u001b[1;32mD:\\MTSDataModel\\src\\MTSDataModel.py\u001b[0m in \u001b[0;36mGetVariables\u001b[1;34m(self, variables, entities)\u001b[0m\n\u001b[0;32m     36\u001b[0m         \u001b[1;31m# If entities selected, check that all variables exist for them\u001b[0m\u001b[1;33m\u001b[0m\u001b[1;33m\u001b[0m\u001b[1;33m\u001b[0m\u001b[0m\n\u001b[0;32m     37\u001b[0m         \u001b[1;32melse\u001b[0m\u001b[1;33m:\u001b[0m\u001b[1;33m\u001b[0m\u001b[1;33m\u001b[0m\u001b[0m\n\u001b[1;32m---> 38\u001b[1;33m             \u001b[0mself\u001b[0m\u001b[1;33m.\u001b[0m\u001b[0mVariablesCheck\u001b[0m\u001b[1;33m(\u001b[0m\u001b[0mvariables\u001b[0m\u001b[1;33m,\u001b[0m\u001b[0mentities\u001b[0m\u001b[1;33m)\u001b[0m\u001b[1;33m\u001b[0m\u001b[1;33m\u001b[0m\u001b[0m\n\u001b[0m\u001b[0;32m     39\u001b[0m \u001b[1;33m\u001b[0m\u001b[0m\n\u001b[0;32m     40\u001b[0m         \u001b[0mframe\u001b[0m \u001b[1;33m=\u001b[0m \u001b[0mself\u001b[0m\u001b[1;33m.\u001b[0m\u001b[0mdf\u001b[0m\u001b[1;33m.\u001b[0m\u001b[0miloc\u001b[0m\u001b[1;33m[\u001b[0m\u001b[1;33m:\u001b[0m\u001b[1;33m,\u001b[0m \u001b[1;33m(\u001b[0m\u001b[0mself\u001b[0m\u001b[1;33m.\u001b[0m\u001b[0mdf\u001b[0m\u001b[1;33m.\u001b[0m\u001b[0mcolumns\u001b[0m\u001b[1;33m.\u001b[0m\u001b[0mget_level_values\u001b[0m\u001b[1;33m(\u001b[0m\u001b[1;36m0\u001b[0m\u001b[1;33m)\u001b[0m\u001b[1;33m.\u001b[0m\u001b[0misin\u001b[0m\u001b[1;33m(\u001b[0m\u001b[0mvariables\u001b[0m\u001b[1;33m)\u001b[0m\u001b[1;33m)\u001b[0m \u001b[1;33m&\u001b[0m \u001b[1;33m(\u001b[0m\u001b[0mself\u001b[0m\u001b[1;33m.\u001b[0m\u001b[0mdf\u001b[0m\u001b[1;33m.\u001b[0m\u001b[0mcolumns\u001b[0m\u001b[1;33m.\u001b[0m\u001b[0mget_level_values\u001b[0m\u001b[1;33m(\u001b[0m\u001b[1;36m1\u001b[0m\u001b[1;33m)\u001b[0m\u001b[1;33m.\u001b[0m\u001b[0misin\u001b[0m\u001b[1;33m(\u001b[0m\u001b[0mentities\u001b[0m\u001b[1;33m)\u001b[0m\u001b[1;33m)\u001b[0m\u001b[1;33m]\u001b[0m\u001b[1;33m.\u001b[0m\u001b[0mcopy\u001b[0m\u001b[1;33m(\u001b[0m\u001b[1;33m)\u001b[0m\u001b[1;33m\u001b[0m\u001b[1;33m\u001b[0m\u001b[0m\n",
      "\u001b[1;32mD:\\MTSDataModel\\src\\MTSDataModel.py\u001b[0m in \u001b[0;36mVariablesCheck\u001b[1;34m(self, variables, entities)\u001b[0m\n\u001b[0;32m    339\u001b[0m             \u001b[0mframe\u001b[0m \u001b[1;33m=\u001b[0m \u001b[0mself\u001b[0m\u001b[1;33m.\u001b[0m\u001b[0mdf\u001b[0m\u001b[1;33m.\u001b[0m\u001b[0miloc\u001b[0m\u001b[1;33m[\u001b[0m\u001b[1;33m:\u001b[0m\u001b[1;33m,\u001b[0m \u001b[1;33m(\u001b[0m\u001b[0mself\u001b[0m\u001b[1;33m.\u001b[0m\u001b[0mdf\u001b[0m\u001b[1;33m.\u001b[0m\u001b[0mcolumns\u001b[0m\u001b[1;33m.\u001b[0m\u001b[0mget_level_values\u001b[0m\u001b[1;33m(\u001b[0m\u001b[1;36m0\u001b[0m\u001b[1;33m)\u001b[0m\u001b[1;33m.\u001b[0m\u001b[0misin\u001b[0m\u001b[1;33m(\u001b[0m\u001b[0mvariables\u001b[0m\u001b[1;33m)\u001b[0m\u001b[1;33m)\u001b[0m \u001b[1;33m&\u001b[0m \u001b[1;33m(\u001b[0m\u001b[0mself\u001b[0m\u001b[1;33m.\u001b[0m\u001b[0mdf\u001b[0m\u001b[1;33m.\u001b[0m\u001b[0mcolumns\u001b[0m\u001b[1;33m.\u001b[0m\u001b[0mget_level_values\u001b[0m\u001b[1;33m(\u001b[0m\u001b[1;36m1\u001b[0m\u001b[1;33m)\u001b[0m \u001b[1;33m==\u001b[0m \u001b[0mentity\u001b[0m\u001b[1;33m)\u001b[0m\u001b[1;33m]\u001b[0m\u001b[1;33m.\u001b[0m\u001b[0mcopy\u001b[0m\u001b[1;33m(\u001b[0m\u001b[1;33m)\u001b[0m\u001b[1;33m\u001b[0m\u001b[1;33m\u001b[0m\u001b[0m\n\u001b[0;32m    340\u001b[0m             \u001b[1;32mif\u001b[0m \u001b[0mset\u001b[0m\u001b[1;33m(\u001b[0m\u001b[0mvariables\u001b[0m\u001b[1;33m)\u001b[0m\u001b[1;33m.\u001b[0m\u001b[0missubset\u001b[0m\u001b[1;33m(\u001b[0m\u001b[0mframe\u001b[0m\u001b[1;33m.\u001b[0m\u001b[0mcolumns\u001b[0m\u001b[1;33m.\u001b[0m\u001b[0mget_level_values\u001b[0m\u001b[1;33m(\u001b[0m\u001b[1;36m0\u001b[0m\u001b[1;33m)\u001b[0m\u001b[1;33m)\u001b[0m \u001b[1;33m==\u001b[0m \u001b[1;32mFalse\u001b[0m\u001b[1;33m:\u001b[0m\u001b[1;33m\u001b[0m\u001b[1;33m\u001b[0m\u001b[0m\n\u001b[1;32m--> 341\u001b[1;33m                 \u001b[1;32mraise\u001b[0m \u001b[0mMyException\u001b[0m\u001b[1;33m(\u001b[0m\u001b[1;34m\"VariablesCheck: Not all required variables present for \"\u001b[0m \u001b[1;33m+\u001b[0m \u001b[0mentity\u001b[0m \u001b[1;33m+\u001b[0m \u001b[1;34m\".\"\u001b[0m\u001b[1;33m)\u001b[0m\u001b[1;33m\u001b[0m\u001b[1;33m\u001b[0m\u001b[0m\n\u001b[0m\u001b[0;32m    342\u001b[0m \u001b[1;33m\u001b[0m\u001b[0m\n\u001b[0;32m    343\u001b[0m     \u001b[1;31m####################\u001b[0m\u001b[1;33m\u001b[0m\u001b[1;33m\u001b[0m\u001b[1;33m\u001b[0m\u001b[0m\n",
      "\u001b[1;31mMyException\u001b[0m: VariablesCheck: Not all required variables present for AUT."
     ]
    }
   ],
   "source": [
    "# When entity list is passed in explicitly, it is required that \n",
    "# inputted variables are present for all entities, If this is not\n",
    "# the case, an error will be thrown.\n",
    "do.GetVariables(['StockPrices','GDP'], entities=['FIN','AUT']).head(2)"
   ]
  },
  {
   "cell_type": "code",
   "execution_count": 9,
   "metadata": {},
   "outputs": [
    {
     "data": {
      "text/html": [
       "<div>\n",
       "<style scoped>\n",
       "    .dataframe tbody tr th:only-of-type {\n",
       "        vertical-align: middle;\n",
       "    }\n",
       "\n",
       "    .dataframe tbody tr th {\n",
       "        vertical-align: top;\n",
       "    }\n",
       "\n",
       "    .dataframe thead tr th {\n",
       "        text-align: left;\n",
       "    }\n",
       "</style>\n",
       "<table border=\"1\" class=\"dataframe\">\n",
       "  <thead>\n",
       "    <tr>\n",
       "      <th></th>\n",
       "      <th>GDP</th>\n",
       "      <th>Inflation</th>\n",
       "      <th>StockPrices</th>\n",
       "    </tr>\n",
       "    <tr>\n",
       "      <th></th>\n",
       "      <th>FIN</th>\n",
       "      <th>FIN</th>\n",
       "      <th>FIN</th>\n",
       "    </tr>\n",
       "  </thead>\n",
       "  <tbody>\n",
       "    <tr>\n",
       "      <th>1970-01-01</th>\n",
       "      <td>6.355725e+10</td>\n",
       "      <td>12.784633</td>\n",
       "      <td>1.247428</td>\n",
       "    </tr>\n",
       "    <tr>\n",
       "      <th>1970-04-01</th>\n",
       "      <td>6.568328e+10</td>\n",
       "      <td>12.861467</td>\n",
       "      <td>1.306829</td>\n",
       "    </tr>\n",
       "  </tbody>\n",
       "</table>\n",
       "</div>"
      ],
      "text/plain": [
       "                     GDP  Inflation StockPrices\n",
       "                     FIN        FIN         FIN\n",
       "1970-01-01  6.355725e+10  12.784633    1.247428\n",
       "1970-04-01  6.568328e+10  12.861467    1.306829"
      ]
     },
     "execution_count": 9,
     "metadata": {},
     "output_type": "execute_result"
    }
   ],
   "source": [
    "# Variables only for FIN.\n",
    "do.GetVariables(['StockPrices','GDP','Inflation'], entities=['FIN']).head(2)"
   ]
  },
  {
   "cell_type": "code",
   "execution_count": 10,
   "metadata": {},
   "outputs": [
    {
     "ename": "MyException",
     "evalue": "EntitiesDefault: Not all variables present for given entities list.",
     "output_type": "error",
     "traceback": [
      "\u001b[1;31m---------------------------------------------------------------------------\u001b[0m",
      "\u001b[1;31mMyException\u001b[0m                               Traceback (most recent call last)",
      "\u001b[1;32m<ipython-input-10-9ee69e895366>\u001b[0m in \u001b[0;36m<module>\u001b[1;34m\u001b[0m\n\u001b[0;32m      1\u001b[0m \u001b[1;31m# This will throw an error: variable Credit does not exist in data.\u001b[0m\u001b[1;33m\u001b[0m\u001b[1;33m\u001b[0m\u001b[1;33m\u001b[0m\u001b[0m\n\u001b[1;32m----> 2\u001b[1;33m \u001b[0mdo\u001b[0m\u001b[1;33m.\u001b[0m\u001b[0mGetVariables\u001b[0m\u001b[1;33m(\u001b[0m\u001b[1;33m[\u001b[0m\u001b[1;34m'Credit'\u001b[0m\u001b[1;33m]\u001b[0m\u001b[1;33m)\u001b[0m\u001b[1;33m\u001b[0m\u001b[1;33m\u001b[0m\u001b[0m\n\u001b[0m",
      "\u001b[1;32mD:\\MTSDataModel\\src\\MTSDataModel.py\u001b[0m in \u001b[0;36mGetVariables\u001b[1;34m(self, variables, entities)\u001b[0m\n\u001b[0;32m     33\u001b[0m         \u001b[1;31m# If no entities selected, get those for which all given variables exists\u001b[0m\u001b[1;33m\u001b[0m\u001b[1;33m\u001b[0m\u001b[1;33m\u001b[0m\u001b[0m\n\u001b[0;32m     34\u001b[0m         \u001b[1;32mif\u001b[0m \u001b[0mentities\u001b[0m \u001b[1;33m==\u001b[0m \u001b[1;32mNone\u001b[0m\u001b[1;33m:\u001b[0m\u001b[1;33m\u001b[0m\u001b[1;33m\u001b[0m\u001b[0m\n\u001b[1;32m---> 35\u001b[1;33m             \u001b[0mentities\u001b[0m \u001b[1;33m=\u001b[0m \u001b[0mself\u001b[0m\u001b[1;33m.\u001b[0m\u001b[0mEntitiesDefault\u001b[0m\u001b[1;33m(\u001b[0m\u001b[0mvariables\u001b[0m\u001b[1;33m)\u001b[0m\u001b[1;33m\u001b[0m\u001b[1;33m\u001b[0m\u001b[0m\n\u001b[0m\u001b[0;32m     36\u001b[0m         \u001b[1;31m# If entities selected, check that all variables exist for them\u001b[0m\u001b[1;33m\u001b[0m\u001b[1;33m\u001b[0m\u001b[1;33m\u001b[0m\u001b[0m\n\u001b[0;32m     37\u001b[0m         \u001b[1;32melse\u001b[0m\u001b[1;33m:\u001b[0m\u001b[1;33m\u001b[0m\u001b[1;33m\u001b[0m\u001b[0m\n",
      "\u001b[1;32mD:\\MTSDataModel\\src\\MTSDataModel.py\u001b[0m in \u001b[0;36mEntitiesDefault\u001b[1;34m(self, variables)\u001b[0m\n\u001b[0;32m    330\u001b[0m         \u001b[1;31m# If no entities found, this means no variables found. Return error.\u001b[0m\u001b[1;33m\u001b[0m\u001b[1;33m\u001b[0m\u001b[1;33m\u001b[0m\u001b[0m\n\u001b[0;32m    331\u001b[0m         \u001b[1;32mif\u001b[0m \u001b[0mlen\u001b[0m\u001b[1;33m(\u001b[0m\u001b[0mentities\u001b[0m\u001b[1;33m)\u001b[0m \u001b[1;33m==\u001b[0m \u001b[1;36m0\u001b[0m\u001b[1;33m:\u001b[0m\u001b[1;33m\u001b[0m\u001b[1;33m\u001b[0m\u001b[0m\n\u001b[1;32m--> 332\u001b[1;33m             \u001b[1;32mraise\u001b[0m \u001b[0mMyException\u001b[0m\u001b[1;33m(\u001b[0m\u001b[1;34m\"EntitiesDefault: Not all variables present for given entities list.\"\u001b[0m\u001b[1;33m)\u001b[0m\u001b[1;33m\u001b[0m\u001b[1;33m\u001b[0m\u001b[0m\n\u001b[0m\u001b[0;32m    333\u001b[0m         \u001b[1;32melse\u001b[0m\u001b[1;33m:\u001b[0m\u001b[1;33m\u001b[0m\u001b[1;33m\u001b[0m\u001b[0m\n\u001b[0;32m    334\u001b[0m             \u001b[1;32mreturn\u001b[0m \u001b[0mentities\u001b[0m\u001b[1;33m\u001b[0m\u001b[1;33m\u001b[0m\u001b[0m\n",
      "\u001b[1;31mMyException\u001b[0m: EntitiesDefault: Not all variables present for given entities list."
     ]
    }
   ],
   "source": [
    "# This will throw an error: variable Credit does not exist in data.\n",
    "do.GetVariables(['Credit'])"
   ]
  },
  {
   "cell_type": "code",
   "execution_count": 11,
   "metadata": {},
   "outputs": [
    {
     "data": {
      "text/html": [
       "<div>\n",
       "<style scoped>\n",
       "    .dataframe tbody tr th:only-of-type {\n",
       "        vertical-align: middle;\n",
       "    }\n",
       "\n",
       "    .dataframe tbody tr th {\n",
       "        vertical-align: top;\n",
       "    }\n",
       "\n",
       "    .dataframe thead tr th {\n",
       "        text-align: left;\n",
       "    }\n",
       "</style>\n",
       "<table border=\"1\" class=\"dataframe\">\n",
       "  <thead>\n",
       "    <tr>\n",
       "      <th></th>\n",
       "      <th colspan=\"2\" halign=\"left\">GDP</th>\n",
       "      <th colspan=\"2\" halign=\"left\">Inflation</th>\n",
       "      <th colspan=\"2\" halign=\"left\">StockPrices</th>\n",
       "    </tr>\n",
       "    <tr>\n",
       "      <th></th>\n",
       "      <th>DEU</th>\n",
       "      <th>FIN</th>\n",
       "      <th>DEU</th>\n",
       "      <th>FIN</th>\n",
       "      <th>DEU</th>\n",
       "      <th>FIN</th>\n",
       "    </tr>\n",
       "  </thead>\n",
       "  <tbody>\n",
       "    <tr>\n",
       "      <th>1970-01-01</th>\n",
       "      <td>NaN</td>\n",
       "      <td>6.355725e+10</td>\n",
       "      <td>31.620100</td>\n",
       "      <td>12.784633</td>\n",
       "      <td>10.873145</td>\n",
       "      <td>1.247428</td>\n",
       "    </tr>\n",
       "    <tr>\n",
       "      <th>1970-04-01</th>\n",
       "      <td>NaN</td>\n",
       "      <td>6.568328e+10</td>\n",
       "      <td>31.900933</td>\n",
       "      <td>12.861467</td>\n",
       "      <td>9.807037</td>\n",
       "      <td>1.306829</td>\n",
       "    </tr>\n",
       "  </tbody>\n",
       "</table>\n",
       "</div>"
      ],
      "text/plain": [
       "           GDP                Inflation            StockPrices          \n",
       "           DEU           FIN        DEU        FIN         DEU       FIN\n",
       "1970-01-01 NaN  6.355725e+10  31.620100  12.784633   10.873145  1.247428\n",
       "1970-04-01 NaN  6.568328e+10  31.900933  12.861467    9.807037  1.306829"
      ]
     },
     "execution_count": 11,
     "metadata": {},
     "output_type": "execute_result"
    }
   ],
   "source": [
    "# It is always safest to \n",
    "#   - make sure that we are working with full set of variables for each entity\n",
    "#   - pass in full entities list to methods\n",
    "# Here we will drop AUT from frame as it does not have GDP variable\n",
    "do.KeepVariables(variables=['GDP','StockPrices','Inflation'], entities=['FIN','DEU'])\n",
    "do.ReturnDf().head(2)\n"
   ]
  },
  {
   "cell_type": "markdown",
   "metadata": {},
   "source": [
    "## Pre-processing"
   ]
  },
  {
   "cell_type": "markdown",
   "metadata": {},
   "source": [
    "### Deflate"
   ]
  },
  {
   "cell_type": "code",
   "execution_count": 12,
   "metadata": {},
   "outputs": [
    {
     "name": "stderr",
     "output_type": "stream",
     "text": [
      "D:\\condaenvs\\mts\\lib\\site-packages\\pandas\\core\\frame.py:4025: SettingWithCopyWarning: \n",
      "A value is trying to be set on a copy of a slice from a DataFrame\n",
      "\n",
      "See the caveats in the documentation: http://pandas.pydata.org/pandas-docs/stable/indexing.html#indexing-view-versus-copy\n",
      "  return super(DataFrame, self).rename(**kwargs)\n",
      "../src\\MTSDataModel.py:377: SettingWithCopyWarning: \n",
      "A value is trying to be set on a copy of a slice from a DataFrame.\n",
      "Try using .loc[row_indexer,col_indexer] = value instead\n",
      "\n",
      "See the caveats in the documentation: http://pandas.pydata.org/pandas-docs/stable/indexing.html#indexing-view-versus-copy\n",
      "  frame['X_hat'] = self.Deflate(frame)\n"
     ]
    },
    {
     "data": {
      "text/html": [
       "<div>\n",
       "<style scoped>\n",
       "    .dataframe tbody tr th:only-of-type {\n",
       "        vertical-align: middle;\n",
       "    }\n",
       "\n",
       "    .dataframe tbody tr th {\n",
       "        vertical-align: top;\n",
       "    }\n",
       "\n",
       "    .dataframe thead tr th {\n",
       "        text-align: left;\n",
       "    }\n",
       "</style>\n",
       "<table border=\"1\" class=\"dataframe\">\n",
       "  <thead>\n",
       "    <tr>\n",
       "      <th></th>\n",
       "      <th colspan=\"2\" halign=\"left\">GDP</th>\n",
       "      <th colspan=\"2\" halign=\"left\">Inflation</th>\n",
       "      <th colspan=\"2\" halign=\"left\">StockPrices</th>\n",
       "      <th colspan=\"2\" halign=\"left\">StockPrices_def</th>\n",
       "    </tr>\n",
       "    <tr>\n",
       "      <th></th>\n",
       "      <th>DEU</th>\n",
       "      <th>FIN</th>\n",
       "      <th>DEU</th>\n",
       "      <th>FIN</th>\n",
       "      <th>DEU</th>\n",
       "      <th>FIN</th>\n",
       "      <th>DEU</th>\n",
       "      <th>FIN</th>\n",
       "    </tr>\n",
       "  </thead>\n",
       "  <tbody>\n",
       "    <tr>\n",
       "      <th>1970-01-01</th>\n",
       "      <td>NaN</td>\n",
       "      <td>6.355725e+10</td>\n",
       "      <td>31.620100</td>\n",
       "      <td>12.784633</td>\n",
       "      <td>10.873145</td>\n",
       "      <td>1.247428</td>\n",
       "      <td>10.873145</td>\n",
       "      <td>1.247428</td>\n",
       "    </tr>\n",
       "    <tr>\n",
       "      <th>1970-04-01</th>\n",
       "      <td>NaN</td>\n",
       "      <td>6.568328e+10</td>\n",
       "      <td>31.900933</td>\n",
       "      <td>12.861467</td>\n",
       "      <td>9.807037</td>\n",
       "      <td>1.306829</td>\n",
       "      <td>9.720703</td>\n",
       "      <td>1.299022</td>\n",
       "    </tr>\n",
       "  </tbody>\n",
       "</table>\n",
       "</div>"
      ],
      "text/plain": [
       "           GDP                Inflation            StockPrices            \\\n",
       "           DEU           FIN        DEU        FIN         DEU       FIN   \n",
       "1970-01-01 NaN  6.355725e+10  31.620100  12.784633   10.873145  1.247428   \n",
       "1970-04-01 NaN  6.568328e+10  31.900933  12.861467    9.807037  1.306829   \n",
       "\n",
       "           StockPrices_def            \n",
       "                       DEU       FIN  \n",
       "1970-01-01       10.873145  1.247428  \n",
       "1970-04-01        9.720703  1.299022  "
      ]
     },
     "execution_count": 12,
     "metadata": {},
     "output_type": "execute_result"
    }
   ],
   "source": [
    "# Defaltes variable StockPrices for al entities for which variables\n",
    "# StockPrices and Inflation are present \n",
    "do.DeflateVariables(['StockPrices'], infvar = 'Inflation')\n",
    "do.ReturnDf().head(2)"
   ]
  },
  {
   "cell_type": "markdown",
   "metadata": {},
   "source": [
    "### De-trend"
   ]
  },
  {
   "cell_type": "code",
   "execution_count": 13,
   "metadata": {},
   "outputs": [],
   "source": [
    "# StockPrices_def available for AUT, DEU, and FIN. GDP available only DEU and FIN\n",
    "# With below implicit selection varibales would get de-trended only for DEU and FIN.\n",
    "#do.DetrendVariables(['StockPrices_def','GDP'], difftype = 'ld')\n",
    "\n",
    "# This will result in error as GDP not available for AUT\n",
    "#do.DetrendVariables(['StockPrices_def','GDP'], entities=['AUT','DEU','FIN'], difftype = 'ld')\n",
    "\n",
    "# To de-trend StockPrices_def for AUT, DEU, and FIN as well as GDP for\n",
    "# DEU and FIN. We can do two implicit entities selections:\n",
    "do.DetrendVariables(['StockPrices_def'], dttype = 'ld1')\n",
    "do.DetrendVariables(['GDP'], dttype = 'ld1')\n",
    "\n",
    "# Simple logs\n",
    "do.DetrendVariables(['GDP'], dttype = 'lg')"
   ]
  },
  {
   "cell_type": "markdown",
   "metadata": {},
   "source": [
    "### HP filtering"
   ]
  },
  {
   "cell_type": "code",
   "execution_count": 14,
   "metadata": {},
   "outputs": [
    {
     "name": "stderr",
     "output_type": "stream",
     "text": [
      "D:\\condaenvs\\mts\\lib\\site-packages\\pandas\\core\\reshape\\merge.py:522: UserWarning: merging between different levels can give an unintended result (1 levels on the left, 2 on the right)\n",
      "  warnings.warn(msg, UserWarning)\n",
      "D:\\condaenvs\\mts\\lib\\site-packages\\pandas\\core\\reshape\\merge.py:522: UserWarning: merging between different levels can give an unintended result (1 levels on the left, 2 on the right)\n",
      "  warnings.warn(msg, UserWarning)\n"
     ]
    }
   ],
   "source": [
    "do.HPFiltering(['GDP_lg'], lamb = 1600)\n",
    "do.HPFiltering(['GDP_lg'], lamb = 1600, minobsamount = 40, expanding = 'expanding')"
   ]
  },
  {
   "cell_type": "code",
   "execution_count": 15,
   "metadata": {},
   "outputs": [
    {
     "data": {
      "image/png": "[encoded data removed]",
      "text/plain": [
       "<matplotlib.figure.Figure at 0x212070c84a8>"
      ]
     },
     "metadata": {
      "needs_background": "light"
     },
     "output_type": "display_data"
    }
   ],
   "source": [
    "do.PlotVariables(['GDP_lg','GDP_lg_hptr','GDP_lg_hptr_exp'],['DEU'])"
   ]
  },
  {
   "cell_type": "markdown",
   "metadata": {},
   "source": [
    "### Wavelet MRA decompositions"
   ]
  },
  {
   "cell_type": "code",
   "execution_count": 16,
   "metadata": {},
   "outputs": [
    {
     "name": "stderr",
     "output_type": "stream",
     "text": [
      "D:\\condaenvs\\mts\\lib\\site-packages\\rpy2-2.9.4-py3.6-win-amd64.egg\\rpy2\\robjects\\pandas2ri.py:191: FutureWarning: from_items is deprecated. Please use DataFrame.from_dict(dict(items), ...) instead. DataFrame.from_dict(OrderedDict(items)) may be used to preserve the key order.\n",
      "  res = PandasDataFrame.from_items(items)\n",
      "D:\\condaenvs\\mts\\lib\\site-packages\\pandas\\core\\reshape\\merge.py:522: UserWarning: merging between different levels can give an unintended result (1 levels on the left, 2 on the right)\n",
      "  warnings.warn(msg, UserWarning)\n"
     ]
    }
   ],
   "source": [
    "do.MRADecomposition(variables = ['StockPrices_def_ld1'], entities=['FIN'],levels = 6, minobsamount=40, expanding='expanding')\n",
    "do.MRADecomposition(variables = ['StockPrices_def_ld1'], entities=['FIN'],levels = 6, minobsamount=40)"
   ]
  },
  {
   "cell_type": "code",
   "execution_count": 17,
   "metadata": {},
   "outputs": [
    {
     "data": {
      "image/png": "[encoded data removed]",
      "text/plain": [
       "<matplotlib.figure.Figure at 0x21208031390>"
      ]
     },
     "metadata": {
      "needs_background": "light"
     },
     "output_type": "display_data"
    }
   ],
   "source": [
    "do.PlotVariables(['StockPrices_def_ld1_wl4','StockPrices_def_ld1_wl4_exp'],['FIN'])"
   ]
  },
  {
   "cell_type": "markdown",
   "metadata": {},
   "source": [
    "### Dimension reduction"
   ]
  },
  {
   "cell_type": "code",
   "execution_count": 18,
   "metadata": {},
   "outputs": [],
   "source": [
    "do.ReduceVariableDimension(suffix = 'PC', variables = ['StockPrices_def_ld1','GDP_ld1'] , entities = ['FIN','DEU'])"
   ]
  },
  {
   "cell_type": "markdown",
   "metadata": {},
   "source": [
    "### Sum variables"
   ]
  },
  {
   "cell_type": "code",
   "execution_count": 19,
   "metadata": {},
   "outputs": [
    {
     "name": "stderr",
     "output_type": "stream",
     "text": [
      "../src\\MTSDataModel.py:502: SettingWithCopyWarning: \n",
      "A value is trying to be set on a copy of a slice from a DataFrame.\n",
      "Try using .loc[row_indexer,col_indexer] = value instead\n",
      "\n",
      "See the caveats in the documentation: http://pandas.pydata.org/pandas-docs/stable/indexing.html#indexing-view-versus-copy\n",
      "  crt_frame[name, entity] = crt_frame.sum(axis=1,skipna = False)\n"
     ]
    },
    {
     "data": {
      "text/html": [
       "<div>\n",
       "<style scoped>\n",
       "    .dataframe tbody tr th:only-of-type {\n",
       "        vertical-align: middle;\n",
       "    }\n",
       "\n",
       "    .dataframe tbody tr th {\n",
       "        vertical-align: top;\n",
       "    }\n",
       "\n",
       "    .dataframe thead tr th {\n",
       "        text-align: left;\n",
       "    }\n",
       "</style>\n",
       "<table border=\"1\" class=\"dataframe\">\n",
       "  <thead>\n",
       "    <tr>\n",
       "      <th></th>\n",
       "      <th colspan=\"2\" halign=\"left\">GDP</th>\n",
       "      <th colspan=\"2\" halign=\"left\">Inflation</th>\n",
       "      <th colspan=\"2\" halign=\"left\">StockPrices</th>\n",
       "      <th colspan=\"2\" halign=\"left\">StockPrices_def</th>\n",
       "      <th colspan=\"2\" halign=\"left\">StockPrices_def_ld1</th>\n",
       "      <th>...</th>\n",
       "      <th>StockPrices_def_ld1_wl2</th>\n",
       "      <th>StockPrices_def_ld1_wl3</th>\n",
       "      <th>StockPrices_def_ld1_wl4</th>\n",
       "      <th>StockPrices_def_ld1_wl5</th>\n",
       "      <th>StockPrices_def_ld1_wl6</th>\n",
       "      <th>StockPrices_def_ld1_wl7</th>\n",
       "      <th colspan=\"2\" halign=\"left\">PC</th>\n",
       "      <th colspan=\"2\" halign=\"left\">gdp+stock</th>\n",
       "    </tr>\n",
       "    <tr>\n",
       "      <th></th>\n",
       "      <th>DEU</th>\n",
       "      <th>FIN</th>\n",
       "      <th>DEU</th>\n",
       "      <th>FIN</th>\n",
       "      <th>DEU</th>\n",
       "      <th>FIN</th>\n",
       "      <th>DEU</th>\n",
       "      <th>FIN</th>\n",
       "      <th>DEU</th>\n",
       "      <th>FIN</th>\n",
       "      <th>...</th>\n",
       "      <th>FIN</th>\n",
       "      <th>FIN</th>\n",
       "      <th>FIN</th>\n",
       "      <th>FIN</th>\n",
       "      <th>FIN</th>\n",
       "      <th>FIN</th>\n",
       "      <th>FIN</th>\n",
       "      <th>DEU</th>\n",
       "      <th>DEU</th>\n",
       "      <th>FIN</th>\n",
       "    </tr>\n",
       "  </thead>\n",
       "  <tbody>\n",
       "    <tr>\n",
       "      <th>1970-01-01</th>\n",
       "      <td>NaN</td>\n",
       "      <td>6.355725e+10</td>\n",
       "      <td>31.620100</td>\n",
       "      <td>12.784633</td>\n",
       "      <td>10.873145</td>\n",
       "      <td>1.247428</td>\n",
       "      <td>10.873145</td>\n",
       "      <td>1.247428</td>\n",
       "      <td>NaN</td>\n",
       "      <td>NaN</td>\n",
       "      <td>...</td>\n",
       "      <td>NaN</td>\n",
       "      <td>NaN</td>\n",
       "      <td>NaN</td>\n",
       "      <td>NaN</td>\n",
       "      <td>NaN</td>\n",
       "      <td>NaN</td>\n",
       "      <td>NaN</td>\n",
       "      <td>NaN</td>\n",
       "      <td>NaN</td>\n",
       "      <td>NaN</td>\n",
       "    </tr>\n",
       "    <tr>\n",
       "      <th>1970-04-01</th>\n",
       "      <td>NaN</td>\n",
       "      <td>6.568328e+10</td>\n",
       "      <td>31.900933</td>\n",
       "      <td>12.861467</td>\n",
       "      <td>9.807037</td>\n",
       "      <td>1.306829</td>\n",
       "      <td>9.720703</td>\n",
       "      <td>1.299022</td>\n",
       "      <td>-0.112038</td>\n",
       "      <td>0.040528</td>\n",
       "      <td>...</td>\n",
       "      <td>-0.006748</td>\n",
       "      <td>0.029292</td>\n",
       "      <td>-0.041935</td>\n",
       "      <td>0.044695</td>\n",
       "      <td>0.014795</td>\n",
       "      <td>-0.005337</td>\n",
       "      <td>0.029799</td>\n",
       "      <td>NaN</td>\n",
       "      <td>NaN</td>\n",
       "      <td>0.073432</td>\n",
       "    </tr>\n",
       "  </tbody>\n",
       "</table>\n",
       "<p>2 rows × 40 columns</p>\n",
       "</div>"
      ],
      "text/plain": [
       "           GDP                Inflation            StockPrices            \\\n",
       "           DEU           FIN        DEU        FIN         DEU       FIN   \n",
       "1970-01-01 NaN  6.355725e+10  31.620100  12.784633   10.873145  1.247428   \n",
       "1970-04-01 NaN  6.568328e+10  31.900933  12.861467    9.807037  1.306829   \n",
       "\n",
       "           StockPrices_def           StockPrices_def_ld1            ...  \\\n",
       "                       DEU       FIN                 DEU       FIN  ...   \n",
       "1970-01-01       10.873145  1.247428                 NaN       NaN  ...   \n",
       "1970-04-01        9.720703  1.299022           -0.112038  0.040528  ...   \n",
       "\n",
       "           StockPrices_def_ld1_wl2 StockPrices_def_ld1_wl3  \\\n",
       "                               FIN                     FIN   \n",
       "1970-01-01                     NaN                     NaN   \n",
       "1970-04-01               -0.006748                0.029292   \n",
       "\n",
       "           StockPrices_def_ld1_wl4 StockPrices_def_ld1_wl5  \\\n",
       "                               FIN                     FIN   \n",
       "1970-01-01                     NaN                     NaN   \n",
       "1970-04-01               -0.041935                0.044695   \n",
       "\n",
       "           StockPrices_def_ld1_wl6 StockPrices_def_ld1_wl7        PC      \\\n",
       "                               FIN                     FIN       FIN DEU   \n",
       "1970-01-01                     NaN                     NaN       NaN NaN   \n",
       "1970-04-01                0.014795               -0.005337  0.029799 NaN   \n",
       "\n",
       "           gdp+stock            \n",
       "                 DEU       FIN  \n",
       "1970-01-01       NaN       NaN  \n",
       "1970-04-01       NaN  0.073432  \n",
       "\n",
       "[2 rows x 40 columns]"
      ]
     },
     "execution_count": 19,
     "metadata": {},
     "output_type": "execute_result"
    }
   ],
   "source": [
    "variables = ['GDP_ld1','StockPrices_def_ld1']\n",
    "do.SumVariables(variables,name=\"gdp+stock\")\n",
    "\n",
    "do.ReturnDf().head(2)"
   ]
  },
  {
   "cell_type": "markdown",
   "metadata": {},
   "source": [
    "## Plot"
   ]
  },
  {
   "cell_type": "code",
   "execution_count": 20,
   "metadata": {},
   "outputs": [
    {
     "data": {
      "image/png": "[encoded data removed]",
      "text/plain": [
       "<matplotlib.figure.Figure at 0x2120e5c73c8>"
      ]
     },
     "metadata": {
      "needs_background": "light"
     },
     "output_type": "display_data"
    }
   ],
   "source": [
    "fig = plt.figure(figsize=(15,7))\n",
    "ax = fig.add_subplot(1,1,1)\n",
    "do.PlotVariables(variables=['StockPrices_def_ld1','GDP_ld1','PC','StockPrices_def_ld1_wl5'], entities=['FIN'], ax=ax)"
   ]
  },
  {
   "cell_type": "markdown",
   "metadata": {},
   "source": [
    "## Predictive modelling"
   ]
  },
  {
   "cell_type": "code",
   "execution_count": 21,
   "metadata": {},
   "outputs": [
    {
     "data": {
      "text/html": [
       "<div>\n",
       "<style scoped>\n",
       "    .dataframe tbody tr th:only-of-type {\n",
       "        vertical-align: middle;\n",
       "    }\n",
       "\n",
       "    .dataframe tbody tr th {\n",
       "        vertical-align: top;\n",
       "    }\n",
       "\n",
       "    .dataframe thead tr th {\n",
       "        text-align: left;\n",
       "    }\n",
       "</style>\n",
       "<table border=\"1\" class=\"dataframe\">\n",
       "  <thead>\n",
       "    <tr>\n",
       "      <th></th>\n",
       "      <th colspan=\"2\" halign=\"left\">GDP</th>\n",
       "      <th colspan=\"3\" halign=\"left\">Inflation</th>\n",
       "      <th colspan=\"3\" halign=\"left\">StockPrices</th>\n",
       "      <th colspan=\"3\" halign=\"left\">y</th>\n",
       "    </tr>\n",
       "    <tr>\n",
       "      <th></th>\n",
       "      <th>DEU</th>\n",
       "      <th>FIN</th>\n",
       "      <th>AUT</th>\n",
       "      <th>DEU</th>\n",
       "      <th>FIN</th>\n",
       "      <th>AUT</th>\n",
       "      <th>DEU</th>\n",
       "      <th>FIN</th>\n",
       "      <th>DEU</th>\n",
       "      <th>FIN</th>\n",
       "      <th>AUT</th>\n",
       "    </tr>\n",
       "  </thead>\n",
       "  <tbody>\n",
       "    <tr>\n",
       "      <th>2018-01-01</th>\n",
       "      <td>2.970868e+12</td>\n",
       "      <td>2.006960e+11</td>\n",
       "      <td>115.076067</td>\n",
       "      <td>109.481500</td>\n",
       "      <td>110.413267</td>\n",
       "      <td>145.034525</td>\n",
       "      <td>112.700919</td>\n",
       "      <td>114.959275</td>\n",
       "      <td>0</td>\n",
       "      <td>0</td>\n",
       "      <td>0</td>\n",
       "    </tr>\n",
       "    <tr>\n",
       "      <th>2018-04-01</th>\n",
       "      <td>2.984284e+12</td>\n",
       "      <td>2.013760e+11</td>\n",
       "      <td>116.071900</td>\n",
       "      <td>110.835733</td>\n",
       "      <td>111.113200</td>\n",
       "      <td>142.267930</td>\n",
       "      <td>111.497291</td>\n",
       "      <td>117.670463</td>\n",
       "      <td>0</td>\n",
       "      <td>0</td>\n",
       "      <td>0</td>\n",
       "    </tr>\n",
       "    <tr>\n",
       "      <th>2018-07-01</th>\n",
       "      <td>2.978737e+12</td>\n",
       "      <td>2.030653e+11</td>\n",
       "      <td>116.366967</td>\n",
       "      <td>111.762333</td>\n",
       "      <td>111.410567</td>\n",
       "      <td>140.082504</td>\n",
       "      <td>108.972433</td>\n",
       "      <td>119.156407</td>\n",
       "      <td>0</td>\n",
       "      <td>0</td>\n",
       "      <td>0</td>\n",
       "    </tr>\n",
       "    <tr>\n",
       "      <th>2018-10-01</th>\n",
       "      <td>2.993535e+12</td>\n",
       "      <td>2.041390e+11</td>\n",
       "      <td>117.473500</td>\n",
       "      <td>111.655467</td>\n",
       "      <td>111.838500</td>\n",
       "      <td>130.353240</td>\n",
       "      <td>98.342199</td>\n",
       "      <td>108.417365</td>\n",
       "      <td>0</td>\n",
       "      <td>0</td>\n",
       "      <td>0</td>\n",
       "    </tr>\n",
       "    <tr>\n",
       "      <th>2019-01-01</th>\n",
       "      <td>3.009343e+12</td>\n",
       "      <td>2.048832e+11</td>\n",
       "      <td>116.735800</td>\n",
       "      <td>110.764450</td>\n",
       "      <td>111.575550</td>\n",
       "      <td>127.735845</td>\n",
       "      <td>97.972692</td>\n",
       "      <td>NaN</td>\n",
       "      <td>0</td>\n",
       "      <td>0</td>\n",
       "      <td>0</td>\n",
       "    </tr>\n",
       "  </tbody>\n",
       "</table>\n",
       "</div>"
      ],
      "text/plain": [
       "                     GDP                 Inflation                          \\\n",
       "                     DEU           FIN         AUT         DEU         FIN   \n",
       "2018-01-01  2.970868e+12  2.006960e+11  115.076067  109.481500  110.413267   \n",
       "2018-04-01  2.984284e+12  2.013760e+11  116.071900  110.835733  111.113200   \n",
       "2018-07-01  2.978737e+12  2.030653e+11  116.366967  111.762333  111.410567   \n",
       "2018-10-01  2.993535e+12  2.041390e+11  117.473500  111.655467  111.838500   \n",
       "2019-01-01  3.009343e+12  2.048832e+11  116.735800  110.764450  111.575550   \n",
       "\n",
       "           StockPrices                           y          \n",
       "                   AUT         DEU         FIN DEU FIN AUT  \n",
       "2018-01-01  145.034525  112.700919  114.959275   0   0   0  \n",
       "2018-04-01  142.267930  111.497291  117.670463   0   0   0  \n",
       "2018-07-01  140.082504  108.972433  119.156407   0   0   0  \n",
       "2018-10-01  130.353240   98.342199  108.417365   0   0   0  \n",
       "2019-01-01  127.735845   97.972692         NaN   0   0   0  "
      ]
     },
     "execution_count": 21,
     "metadata": {},
     "output_type": "execute_result"
    }
   ],
   "source": [
    "filename = 'sample_data.csv'\n",
    "colnames = {'level1': 'Variable', 'level2': 'Country', 'value': 'Value','index': 'Date'}\n",
    "do2 = mts.MTSDataModel(filepath = filename, colnames = colnames)\n",
    "\n",
    "# Create some dummy data representing binary outcome data\n",
    "# which still does not exist in do2 object\n",
    "df = do2.ReturnDf()\n",
    "df['y','DEU']=[1 if x in [6,7,10,11,99,180,182,183] else 0 for x in range(len(df))]\n",
    "df['y','FIN']=[1 if x in [13,14,15,98,99,100,101, 167, 171] else 0 for x in range(len(df)) ]\n",
    "df['y','AUT']=[1 if x in [98,99,100,101] else 0 for x in range(len(df)) ]\n",
    "\n",
    "#df = df.iloc[:,df.columns.get_level_values(1)=='FIN']\n",
    "df.tail(5)"
   ]
  },
  {
   "cell_type": "code",
   "execution_count": 22,
   "metadata": {},
   "outputs": [
    {
     "data": {
      "text/html": [
       "<div>\n",
       "<style scoped>\n",
       "    .dataframe tbody tr th:only-of-type {\n",
       "        vertical-align: middle;\n",
       "    }\n",
       "\n",
       "    .dataframe tbody tr th {\n",
       "        vertical-align: top;\n",
       "    }\n",
       "\n",
       "    .dataframe thead tr th {\n",
       "        text-align: left;\n",
       "    }\n",
       "</style>\n",
       "<table border=\"1\" class=\"dataframe\">\n",
       "  <thead>\n",
       "    <tr>\n",
       "      <th></th>\n",
       "      <th colspan=\"3\" halign=\"left\">Inflation</th>\n",
       "      <th colspan=\"3\" halign=\"left\">StockPrices</th>\n",
       "      <th colspan=\"3\" halign=\"left\">y</th>\n",
       "    </tr>\n",
       "    <tr>\n",
       "      <th></th>\n",
       "      <th>AUT</th>\n",
       "      <th>DEU</th>\n",
       "      <th>FIN</th>\n",
       "      <th>AUT</th>\n",
       "      <th>DEU</th>\n",
       "      <th>FIN</th>\n",
       "      <th>DEU</th>\n",
       "      <th>FIN</th>\n",
       "      <th>AUT</th>\n",
       "    </tr>\n",
       "  </thead>\n",
       "  <tbody>\n",
       "    <tr>\n",
       "      <th>1970-01-01</th>\n",
       "      <td>25.154467</td>\n",
       "      <td>31.620100</td>\n",
       "      <td>12.784633</td>\n",
       "      <td>11.314692</td>\n",
       "      <td>10.873145</td>\n",
       "      <td>1.247428</td>\n",
       "      <td>0</td>\n",
       "      <td>0</td>\n",
       "      <td>0</td>\n",
       "    </tr>\n",
       "    <tr>\n",
       "      <th>1970-04-01</th>\n",
       "      <td>25.412633</td>\n",
       "      <td>31.900933</td>\n",
       "      <td>12.861467</td>\n",
       "      <td>11.390358</td>\n",
       "      <td>9.807037</td>\n",
       "      <td>1.306829</td>\n",
       "      <td>0</td>\n",
       "      <td>0</td>\n",
       "      <td>0</td>\n",
       "    </tr>\n",
       "  </tbody>\n",
       "</table>\n",
       "</div>"
      ],
      "text/plain": [
       "            Inflation                       StockPrices                       \\\n",
       "                  AUT        DEU        FIN         AUT        DEU       FIN   \n",
       "1970-01-01  25.154467  31.620100  12.784633   11.314692  10.873145  1.247428   \n",
       "1970-04-01  25.412633  31.900933  12.861467   11.390358   9.807037  1.306829   \n",
       "\n",
       "             y          \n",
       "           DEU FIN AUT  \n",
       "1970-01-01   0   0   0  \n",
       "1970-04-01   0   0   0  "
      ]
     },
     "execution_count": 22,
     "metadata": {},
     "output_type": "execute_result"
    }
   ],
   "source": [
    "# Define exogenous and endogenous variables\n",
    "exogenous = ['StockPrices','Inflation']\n",
    "endogenous = ['y']\n",
    "\n",
    "# Initialize predictive modelling object with df as the data frame\n",
    "pm = mts.MTSPredModel(df = df, exogenous=exogenous, endogenous=endogenous)\n",
    "df1 = pm.ReturnDf() \n",
    "pm.ReturnDf().head(2)"
   ]
  },
  {
   "cell_type": "code",
   "execution_count": 23,
   "metadata": {},
   "outputs": [],
   "source": [
    "# Prepare endogenous variable for early-warning exercise\n",
    "pm.PrepareEndogenousVariable(y='y', horizonstart=6, horizonend=3, postcrisisperiods=1, postcrisisdroptype='dropifnotinvulnhor')\n",
    "df2 = pm.ReturnDf()"
   ]
  },
  {
   "cell_type": "code",
   "execution_count": 24,
   "metadata": {},
   "outputs": [
    {
     "data": {
      "text/plain": [
       "<matplotlib.axes._subplots.AxesSubplot at 0x2120f0e6f60>"
      ]
     },
     "execution_count": 24,
     "metadata": {},
     "output_type": "execute_result"
    },
    {
     "data": {
      "image/png": "[encoded data removed]",
      "text/plain": [
       "<matplotlib.figure.Figure at 0x21209330278>"
      ]
     },
     "metadata": {
      "needs_background": "light"
     },
     "output_type": "display_data"
    }
   ],
   "source": [
    "fig = plt.figure(figsize=(15,7))\n",
    "ax = fig.add_subplot(1,1,1)\n",
    "df1['y','FIN'].plot(ax=ax, style='.')\n",
    "df2['y','FIN'].plot(ax=ax, style='.')"
   ]
  },
  {
   "cell_type": "code",
   "execution_count": 25,
   "metadata": {},
   "outputs": [
    {
     "data": {
      "text/html": [
       "<div>\n",
       "<style scoped>\n",
       "    .dataframe tbody tr th:only-of-type {\n",
       "        vertical-align: middle;\n",
       "    }\n",
       "\n",
       "    .dataframe tbody tr th {\n",
       "        vertical-align: top;\n",
       "    }\n",
       "\n",
       "    .dataframe thead th {\n",
       "        text-align: right;\n",
       "    }\n",
       "</style>\n",
       "<table border=\"1\" class=\"dataframe\">\n",
       "  <thead>\n",
       "    <tr style=\"text-align: right;\">\n",
       "      <th></th>\n",
       "      <th>orig</th>\n",
       "      <th>new</th>\n",
       "    </tr>\n",
       "  </thead>\n",
       "  <tbody>\n",
       "    <tr>\n",
       "      <th>2009-04-01</th>\n",
       "      <td>0</td>\n",
       "      <td>0.0</td>\n",
       "    </tr>\n",
       "    <tr>\n",
       "      <th>2009-07-01</th>\n",
       "      <td>0</td>\n",
       "      <td>0.0</td>\n",
       "    </tr>\n",
       "    <tr>\n",
       "      <th>2009-10-01</th>\n",
       "      <td>0</td>\n",
       "      <td>0.0</td>\n",
       "    </tr>\n",
       "    <tr>\n",
       "      <th>2010-01-01</th>\n",
       "      <td>0</td>\n",
       "      <td>0.0</td>\n",
       "    </tr>\n",
       "    <tr>\n",
       "      <th>2010-04-01</th>\n",
       "      <td>0</td>\n",
       "      <td>1.0</td>\n",
       "    </tr>\n",
       "    <tr>\n",
       "      <th>2010-07-01</th>\n",
       "      <td>0</td>\n",
       "      <td>1.0</td>\n",
       "    </tr>\n",
       "    <tr>\n",
       "      <th>2010-10-01</th>\n",
       "      <td>0</td>\n",
       "      <td>1.0</td>\n",
       "    </tr>\n",
       "    <tr>\n",
       "      <th>2011-01-01</th>\n",
       "      <td>0</td>\n",
       "      <td>1.0</td>\n",
       "    </tr>\n",
       "    <tr>\n",
       "      <th>2011-04-01</th>\n",
       "      <td>0</td>\n",
       "      <td>1.0</td>\n",
       "    </tr>\n",
       "    <tr>\n",
       "      <th>2011-07-01</th>\n",
       "      <td>0</td>\n",
       "      <td>1.0</td>\n",
       "    </tr>\n",
       "    <tr>\n",
       "      <th>2011-10-01</th>\n",
       "      <td>1</td>\n",
       "      <td>NaN</td>\n",
       "    </tr>\n",
       "    <tr>\n",
       "      <th>2012-01-01</th>\n",
       "      <td>0</td>\n",
       "      <td>1.0</td>\n",
       "    </tr>\n",
       "    <tr>\n",
       "      <th>2012-04-01</th>\n",
       "      <td>0</td>\n",
       "      <td>NaN</td>\n",
       "    </tr>\n",
       "    <tr>\n",
       "      <th>2012-07-01</th>\n",
       "      <td>0</td>\n",
       "      <td>NaN</td>\n",
       "    </tr>\n",
       "    <tr>\n",
       "      <th>2012-10-01</th>\n",
       "      <td>1</td>\n",
       "      <td>NaN</td>\n",
       "    </tr>\n",
       "    <tr>\n",
       "      <th>2013-01-01</th>\n",
       "      <td>0</td>\n",
       "      <td>NaN</td>\n",
       "    </tr>\n",
       "    <tr>\n",
       "      <th>2013-04-01</th>\n",
       "      <td>0</td>\n",
       "      <td>0.0</td>\n",
       "    </tr>\n",
       "    <tr>\n",
       "      <th>2013-07-01</th>\n",
       "      <td>0</td>\n",
       "      <td>0.0</td>\n",
       "    </tr>\n",
       "    <tr>\n",
       "      <th>2013-10-01</th>\n",
       "      <td>0</td>\n",
       "      <td>0.0</td>\n",
       "    </tr>\n",
       "    <tr>\n",
       "      <th>2014-01-01</th>\n",
       "      <td>0</td>\n",
       "      <td>0.0</td>\n",
       "    </tr>\n",
       "    <tr>\n",
       "      <th>2014-04-01</th>\n",
       "      <td>0</td>\n",
       "      <td>0.0</td>\n",
       "    </tr>\n",
       "    <tr>\n",
       "      <th>2014-07-01</th>\n",
       "      <td>0</td>\n",
       "      <td>0.0</td>\n",
       "    </tr>\n",
       "    <tr>\n",
       "      <th>2014-10-01</th>\n",
       "      <td>0</td>\n",
       "      <td>0.0</td>\n",
       "    </tr>\n",
       "    <tr>\n",
       "      <th>2015-01-01</th>\n",
       "      <td>0</td>\n",
       "      <td>0.0</td>\n",
       "    </tr>\n",
       "    <tr>\n",
       "      <th>2015-04-01</th>\n",
       "      <td>0</td>\n",
       "      <td>0.0</td>\n",
       "    </tr>\n",
       "    <tr>\n",
       "      <th>2015-07-01</th>\n",
       "      <td>0</td>\n",
       "      <td>0.0</td>\n",
       "    </tr>\n",
       "    <tr>\n",
       "      <th>2015-10-01</th>\n",
       "      <td>0</td>\n",
       "      <td>0.0</td>\n",
       "    </tr>\n",
       "    <tr>\n",
       "      <th>2016-01-01</th>\n",
       "      <td>0</td>\n",
       "      <td>0.0</td>\n",
       "    </tr>\n",
       "    <tr>\n",
       "      <th>2016-04-01</th>\n",
       "      <td>0</td>\n",
       "      <td>0.0</td>\n",
       "    </tr>\n",
       "    <tr>\n",
       "      <th>2016-07-01</th>\n",
       "      <td>0</td>\n",
       "      <td>0.0</td>\n",
       "    </tr>\n",
       "    <tr>\n",
       "      <th>2016-10-01</th>\n",
       "      <td>0</td>\n",
       "      <td>0.0</td>\n",
       "    </tr>\n",
       "    <tr>\n",
       "      <th>2017-01-01</th>\n",
       "      <td>0</td>\n",
       "      <td>0.0</td>\n",
       "    </tr>\n",
       "    <tr>\n",
       "      <th>2017-04-01</th>\n",
       "      <td>0</td>\n",
       "      <td>0.0</td>\n",
       "    </tr>\n",
       "    <tr>\n",
       "      <th>2017-07-01</th>\n",
       "      <td>0</td>\n",
       "      <td>0.0</td>\n",
       "    </tr>\n",
       "    <tr>\n",
       "      <th>2017-10-01</th>\n",
       "      <td>0</td>\n",
       "      <td>0.0</td>\n",
       "    </tr>\n",
       "    <tr>\n",
       "      <th>2018-01-01</th>\n",
       "      <td>0</td>\n",
       "      <td>0.0</td>\n",
       "    </tr>\n",
       "    <tr>\n",
       "      <th>2018-04-01</th>\n",
       "      <td>0</td>\n",
       "      <td>0.0</td>\n",
       "    </tr>\n",
       "    <tr>\n",
       "      <th>2018-07-01</th>\n",
       "      <td>0</td>\n",
       "      <td>0.0</td>\n",
       "    </tr>\n",
       "    <tr>\n",
       "      <th>2018-10-01</th>\n",
       "      <td>0</td>\n",
       "      <td>0.0</td>\n",
       "    </tr>\n",
       "    <tr>\n",
       "      <th>2019-01-01</th>\n",
       "      <td>0</td>\n",
       "      <td>0.0</td>\n",
       "    </tr>\n",
       "  </tbody>\n",
       "</table>\n",
       "</div>"
      ],
      "text/plain": [
       "            orig  new\n",
       "2009-04-01     0  0.0\n",
       "2009-07-01     0  0.0\n",
       "2009-10-01     0  0.0\n",
       "2010-01-01     0  0.0\n",
       "2010-04-01     0  1.0\n",
       "2010-07-01     0  1.0\n",
       "2010-10-01     0  1.0\n",
       "2011-01-01     0  1.0\n",
       "2011-04-01     0  1.0\n",
       "2011-07-01     0  1.0\n",
       "2011-10-01     1  NaN\n",
       "2012-01-01     0  1.0\n",
       "2012-04-01     0  NaN\n",
       "2012-07-01     0  NaN\n",
       "2012-10-01     1  NaN\n",
       "2013-01-01     0  NaN\n",
       "2013-04-01     0  0.0\n",
       "2013-07-01     0  0.0\n",
       "2013-10-01     0  0.0\n",
       "2014-01-01     0  0.0\n",
       "2014-04-01     0  0.0\n",
       "2014-07-01     0  0.0\n",
       "2014-10-01     0  0.0\n",
       "2015-01-01     0  0.0\n",
       "2015-04-01     0  0.0\n",
       "2015-07-01     0  0.0\n",
       "2015-10-01     0  0.0\n",
       "2016-01-01     0  0.0\n",
       "2016-04-01     0  0.0\n",
       "2016-07-01     0  0.0\n",
       "2016-10-01     0  0.0\n",
       "2017-01-01     0  0.0\n",
       "2017-04-01     0  0.0\n",
       "2017-07-01     0  0.0\n",
       "2017-10-01     0  0.0\n",
       "2018-01-01     0  0.0\n",
       "2018-04-01     0  0.0\n",
       "2018-07-01     0  0.0\n",
       "2018-10-01     0  0.0\n",
       "2019-01-01     0  0.0"
      ]
     },
     "execution_count": 25,
     "metadata": {},
     "output_type": "execute_result"
    }
   ],
   "source": [
    "pd.DataFrame({'orig':df1['y','FIN'], 'new':df2['y','FIN'] }).tail(40)"
   ]
  },
  {
   "cell_type": "code",
   "execution_count": null,
   "metadata": {},
   "outputs": [],
   "source": []
  }
 ],
 "metadata": {
  "kernelspec": {
   "display_name": "Python [conda env:mts]",
   "language": "python",
   "name": "conda-env-mts-py"
  },
  "language_info": {
   "codemirror_mode": {
    "name": "ipython",
    "version": 3
   },
   "file_extension": ".py",
   "mimetype": "text/x-python",
   "name": "python",
   "nbconvert_exporter": "python",
   "pygments_lexer": "ipython3",
   "version": "3.6.7"
  },
  "toc-showcode": false,
  "toc-showmarkdowntxt": false
 },
 "nbformat": 4,
 "nbformat_minor": 2
}
