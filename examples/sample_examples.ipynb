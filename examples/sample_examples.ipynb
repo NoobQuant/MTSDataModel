{
 "cells": [
  {
   "cell_type": "markdown",
   "metadata": {},
   "source": [
    "# Examples on using MTSDataModel"
   ]
  },
  {
   "cell_type": "markdown",
   "metadata": {},
   "source": [
    "## Load modules"
   ]
  },
  {
   "cell_type": "code",
   "execution_count": 1,
   "metadata": {},
   "outputs": [],
   "source": [
    "import sys\n",
    "sys.path.insert(0,r'../src/')\n",
    "import MTSDataModel as mts"
   ]
  },
  {
   "cell_type": "code",
   "execution_count": 2,
   "metadata": {},
   "outputs": [],
   "source": [
    "import pandas as pd\n",
    "import numpy as np\n",
    "%matplotlib inline\n",
    "from matplotlib import pyplot as plt\n",
    "import rpy2"
   ]
  },
  {
   "cell_type": "markdown",
   "metadata": {},
   "source": [
    "## Get data"
   ]
  },
  {
   "cell_type": "code",
   "execution_count": 3,
   "metadata": {},
   "outputs": [],
   "source": [
    "filename = 'sample_data.csv'\n",
    "colnames = {'level1': 'Variable', 'level2': 'Country', 'value': 'Value','index': 'Date'}\n",
    "do = mts.MTSDataModel(filepath = filename, colnames = colnames)"
   ]
  },
  {
   "cell_type": "code",
   "execution_count": 4,
   "metadata": {},
   "outputs": [
    {
     "data": {
      "text/html": [
       "<div>\n",
       "<style scoped>\n",
       "    .dataframe tbody tr th:only-of-type {\n",
       "        vertical-align: middle;\n",
       "    }\n",
       "\n",
       "    .dataframe tbody tr th {\n",
       "        vertical-align: top;\n",
       "    }\n",
       "\n",
       "    .dataframe thead tr th {\n",
       "        text-align: left;\n",
       "    }\n",
       "</style>\n",
       "<table border=\"1\" class=\"dataframe\">\n",
       "  <thead>\n",
       "    <tr>\n",
       "      <th></th>\n",
       "      <th colspan=\"2\" halign=\"left\">GDP</th>\n",
       "      <th colspan=\"3\" halign=\"left\">Inflation</th>\n",
       "      <th colspan=\"3\" halign=\"left\">StockPrices</th>\n",
       "    </tr>\n",
       "    <tr>\n",
       "      <th></th>\n",
       "      <th>DEU</th>\n",
       "      <th>FIN</th>\n",
       "      <th>AUT</th>\n",
       "      <th>DEU</th>\n",
       "      <th>FIN</th>\n",
       "      <th>AUT</th>\n",
       "      <th>DEU</th>\n",
       "      <th>FIN</th>\n",
       "    </tr>\n",
       "  </thead>\n",
       "  <tbody>\n",
       "    <tr>\n",
       "      <th>1970-01-01</th>\n",
       "      <td>NaN</td>\n",
       "      <td>6.355725e+10</td>\n",
       "      <td>25.154467</td>\n",
       "      <td>31.620100</td>\n",
       "      <td>12.784633</td>\n",
       "      <td>11.314692</td>\n",
       "      <td>10.873145</td>\n",
       "      <td>1.247428</td>\n",
       "    </tr>\n",
       "    <tr>\n",
       "      <th>1970-04-01</th>\n",
       "      <td>NaN</td>\n",
       "      <td>6.568328e+10</td>\n",
       "      <td>25.412633</td>\n",
       "      <td>31.900933</td>\n",
       "      <td>12.861467</td>\n",
       "      <td>11.390358</td>\n",
       "      <td>9.807037</td>\n",
       "      <td>1.306829</td>\n",
       "    </tr>\n",
       "    <tr>\n",
       "      <th>1970-07-01</th>\n",
       "      <td>NaN</td>\n",
       "      <td>6.706184e+10</td>\n",
       "      <td>25.781500</td>\n",
       "      <td>31.947800</td>\n",
       "      <td>12.946200</td>\n",
       "      <td>12.117531</td>\n",
       "      <td>9.271091</td>\n",
       "      <td>1.348410</td>\n",
       "    </tr>\n",
       "    <tr>\n",
       "      <th>1970-10-01</th>\n",
       "      <td>NaN</td>\n",
       "      <td>6.790094e+10</td>\n",
       "      <td>26.002767</td>\n",
       "      <td>32.252033</td>\n",
       "      <td>13.017667</td>\n",
       "      <td>12.248969</td>\n",
       "      <td>8.835394</td>\n",
       "      <td>1.401871</td>\n",
       "    </tr>\n",
       "    <tr>\n",
       "      <th>1971-01-01</th>\n",
       "      <td>NaN</td>\n",
       "      <td>6.437505e+10</td>\n",
       "      <td>26.260967</td>\n",
       "      <td>33.024367</td>\n",
       "      <td>13.290433</td>\n",
       "      <td>12.077389</td>\n",
       "      <td>9.699077</td>\n",
       "      <td>1.490974</td>\n",
       "    </tr>\n",
       "  </tbody>\n",
       "</table>\n",
       "</div>"
      ],
      "text/plain": [
       "           GDP                Inflation                       StockPrices  \\\n",
       "           DEU           FIN        AUT        DEU        FIN         AUT   \n",
       "1970-01-01 NaN  6.355725e+10  25.154467  31.620100  12.784633   11.314692   \n",
       "1970-04-01 NaN  6.568328e+10  25.412633  31.900933  12.861467   11.390358   \n",
       "1970-07-01 NaN  6.706184e+10  25.781500  31.947800  12.946200   12.117531   \n",
       "1970-10-01 NaN  6.790094e+10  26.002767  32.252033  13.017667   12.248969   \n",
       "1971-01-01 NaN  6.437505e+10  26.260967  33.024367  13.290433   12.077389   \n",
       "\n",
       "                                 \n",
       "                  DEU       FIN  \n",
       "1970-01-01  10.873145  1.247428  \n",
       "1970-04-01   9.807037  1.306829  \n",
       "1970-07-01   9.271091  1.348410  \n",
       "1970-10-01   8.835394  1.401871  \n",
       "1971-01-01   9.699077  1.490974  "
      ]
     },
     "execution_count": 4,
     "metadata": {},
     "output_type": "execute_result"
    }
   ],
   "source": [
    "df = do.ReturnDf()\n",
    "df.head()"
   ]
  },
  {
   "cell_type": "markdown",
   "metadata": {},
   "source": [
    "## Pre-processing"
   ]
  },
  {
   "cell_type": "markdown",
   "metadata": {},
   "source": [
    "### Deflate"
   ]
  },
  {
   "cell_type": "code",
   "execution_count": 5,
   "metadata": {},
   "outputs": [
    {
     "name": "stderr",
     "output_type": "stream",
     "text": [
      "C:\\Users\\ville_000\\Anaconda3\\lib\\site-packages\\pandas\\core\\frame.py:4025: SettingWithCopyWarning: \n",
      "A value is trying to be set on a copy of a slice from a DataFrame\n",
      "\n",
      "See the caveats in the documentation: http://pandas.pydata.org/pandas-docs/stable/indexing.html#indexing-view-versus-copy\n",
      "  return super(DataFrame, self).rename(**kwargs)\n",
      "../src\\MTSDataModel.py:206: SettingWithCopyWarning: \n",
      "A value is trying to be set on a copy of a slice from a DataFrame.\n",
      "Try using .loc[row_indexer,col_indexer] = value instead\n",
      "\n",
      "See the caveats in the documentation: http://pandas.pydata.org/pandas-docs/stable/indexing.html#indexing-view-versus-copy\n",
      "  frame['X_hat'] = self.Deflate(frame)\n",
      "C:\\Users\\ville_000\\Anaconda3\\lib\\site-packages\\pandas\\core\\frame.py:4025: SettingWithCopyWarning: \n",
      "A value is trying to be set on a copy of a slice from a DataFrame\n",
      "\n",
      "See the caveats in the documentation: http://pandas.pydata.org/pandas-docs/stable/indexing.html#indexing-view-versus-copy\n",
      "  return super(DataFrame, self).rename(**kwargs)\n"
     ]
    }
   ],
   "source": [
    "do.DeflateVariables(['StockPrices'], infvar = 'Inflation')"
   ]
  },
  {
   "cell_type": "markdown",
   "metadata": {},
   "source": [
    "### De-trend"
   ]
  },
  {
   "cell_type": "code",
   "execution_count": 6,
   "metadata": {},
   "outputs": [],
   "source": [
    "do.DetrendVariables(['StockPrices_def','GDP'], difftype = 'ld')"
   ]
  },
  {
   "cell_type": "markdown",
   "metadata": {},
   "source": [
    "## Feature engineering"
   ]
  },
  {
   "cell_type": "markdown",
   "metadata": {},
   "source": [
    "### Wavelet MRA decompositions"
   ]
  },
  {
   "cell_type": "code",
   "execution_count": null,
   "metadata": {},
   "outputs": [],
   "source": [
    "do.MRADecomposition(variables = ['GDP_ld1'], entities=['FIN'],levels = 6,expanding='none')\n",
    "#do.MRADecomposition(variables = ['GDP_ld1'],levels = 6,expanding='none') # bug here"
   ]
  },
  {
   "cell_type": "markdown",
   "metadata": {},
   "source": [
    "### Dimension reduction"
   ]
  },
  {
   "cell_type": "code",
   "execution_count": null,
   "metadata": {},
   "outputs": [],
   "source": [
    "do.ReduceVariableDimension(suffix = 'PC', variables = ['StockPrices_def_ld1','GDP_ld1'] , entities = ['FIN','DEU'])"
   ]
  },
  {
   "cell_type": "markdown",
   "metadata": {},
   "source": [
    "### Sum variables"
   ]
  },
  {
   "cell_type": "code",
   "execution_count": null,
   "metadata": {},
   "outputs": [],
   "source": [
    "#variables = {\"gdp+stock\": ['GDP_ld1','StockPrices_def_ld1']}\n",
    "#do.SumVariables(variables)\n",
    "\n",
    "#df = do.ReturnDf()\n",
    "#df.head()"
   ]
  },
  {
   "cell_type": "code",
   "execution_count": null,
   "metadata": {},
   "outputs": [],
   "source": []
  },
  {
   "cell_type": "code",
   "execution_count": 37,
   "metadata": {},
   "outputs": [],
   "source": [
    "class MyException(Exception):\n",
    "    pass\n",
    "\n",
    "def EntitiesDefault(variables):\n",
    "    \"\"\"\n",
    "    Helper function to extract entities for which \n",
    "    all chosen variables exist.\n",
    "    \"\"\"\n",
    "    entities = []\n",
    "    # All possible entities\n",
    "    all_entities = list(np.unique(df.columns.get_level_values(1).values))\n",
    "    # Loop over all_entities\n",
    "    for crtentity in all_entities:\n",
    "        # If variables belong to list of all variables under current entity,\n",
    "        # append current entity to entities\n",
    "        if set(variables).issubset(list(df.iloc[:, df.columns.get_level_values(1).isin([crtentity])].columns.get_level_values(0))):\n",
    "            entities.append(crtentity)\n",
    "    return entities\n",
    "\n",
    "def VariablesCheck(variables,entities):\n",
    "    \"\"\"Helper function to check chosen variables exist for chosen entities.\"\"\"\n",
    "    for entity in entities:\n",
    "        frame = df.iloc[:, (df.columns.get_level_values(0).isin(variables)) & (df.columns.get_level_values(1) == entity)].copy()       \n",
    "        if set(variables).issubset(frame.columns.get_level_values(0)) == False:\n",
    "            raise MyException(\"Not all variables present for \" + entity + \".\")             \n",
    "\n",
    "def SumVariables(df,variables,name,entities=None):\n",
    "    \"\"\"\n",
    "    Aggregate given variables, under same entity, using simple sum.\n",
    "\n",
    "    variables is a dict with key being new variable name and value designating\n",
    "    variables to be summed together.\n",
    "    \"\"\"\n",
    "    # If no entities selected, get those for which all given variables exists\n",
    "    if entities == None:\n",
    "        entities = EntitiesDefault(variables)\n",
    "    # If entities selected, check that all variables exist for them\n",
    "    else:\n",
    "        VariablesCheck(variables,entities)\n",
    "\n",
    "    for entity in entities:\n",
    "        crt_frame = df.iloc[:, (df.columns.get_level_values(0).isin(variables)) & (df.columns.get_level_values(1) == entity)]\n",
    "        crt_frame[name, entity] = crt_frame.sum(axis=1,skipna = False)\n",
    "        df = pd.merge(df, crt_frame[name, entity], left_index = True, right_index = True, how = 'left')\n",
    "    return df"
   ]
  },
  {
   "cell_type": "code",
   "execution_count": 44,
   "metadata": {},
   "outputs": [
    {
     "data": {
      "text/html": [
       "<div>\n",
       "<style scoped>\n",
       "    .dataframe tbody tr th:only-of-type {\n",
       "        vertical-align: middle;\n",
       "    }\n",
       "\n",
       "    .dataframe tbody tr th {\n",
       "        vertical-align: top;\n",
       "    }\n",
       "\n",
       "    .dataframe thead tr th {\n",
       "        text-align: left;\n",
       "    }\n",
       "</style>\n",
       "<table border=\"1\" class=\"dataframe\">\n",
       "  <thead>\n",
       "    <tr>\n",
       "      <th></th>\n",
       "      <th colspan=\"2\" halign=\"left\">GDP</th>\n",
       "      <th colspan=\"3\" halign=\"left\">Inflation</th>\n",
       "      <th colspan=\"3\" halign=\"left\">StockPrices</th>\n",
       "      <th colspan=\"3\" halign=\"left\">StockPrices_def</th>\n",
       "      <th colspan=\"3\" halign=\"left\">StockPrices_def_ld1</th>\n",
       "      <th colspan=\"2\" halign=\"left\">GDP_ld1</th>\n",
       "    </tr>\n",
       "    <tr>\n",
       "      <th></th>\n",
       "      <th>DEU</th>\n",
       "      <th>FIN</th>\n",
       "      <th>AUT</th>\n",
       "      <th>DEU</th>\n",
       "      <th>FIN</th>\n",
       "      <th>AUT</th>\n",
       "      <th>DEU</th>\n",
       "      <th>FIN</th>\n",
       "      <th>AUT</th>\n",
       "      <th>DEU</th>\n",
       "      <th>FIN</th>\n",
       "      <th>AUT</th>\n",
       "      <th>DEU</th>\n",
       "      <th>FIN</th>\n",
       "      <th>DEU</th>\n",
       "      <th>FIN</th>\n",
       "    </tr>\n",
       "  </thead>\n",
       "  <tbody>\n",
       "    <tr>\n",
       "      <th>1970-01-01</th>\n",
       "      <td>NaN</td>\n",
       "      <td>6.355725e+10</td>\n",
       "      <td>25.154467</td>\n",
       "      <td>31.6201</td>\n",
       "      <td>12.784633</td>\n",
       "      <td>11.314692</td>\n",
       "      <td>10.873145</td>\n",
       "      <td>1.247428</td>\n",
       "      <td>11.314692</td>\n",
       "      <td>10.873145</td>\n",
       "      <td>1.247428</td>\n",
       "      <td>NaN</td>\n",
       "      <td>NaN</td>\n",
       "      <td>NaN</td>\n",
       "      <td>NaN</td>\n",
       "      <td>NaN</td>\n",
       "    </tr>\n",
       "  </tbody>\n",
       "</table>\n",
       "</div>"
      ],
      "text/plain": [
       "           GDP                Inflation                     StockPrices  \\\n",
       "           DEU           FIN        AUT      DEU        FIN         AUT   \n",
       "1970-01-01 NaN  6.355725e+10  25.154467  31.6201  12.784633   11.314692   \n",
       "\n",
       "                                StockPrices_def                       \\\n",
       "                  DEU       FIN             AUT        DEU       FIN   \n",
       "1970-01-01  10.873145  1.247428       11.314692  10.873145  1.247428   \n",
       "\n",
       "           StockPrices_def_ld1         GDP_ld1      \n",
       "                           AUT DEU FIN     DEU FIN  \n",
       "1970-01-01                 NaN NaN NaN     NaN NaN  "
      ]
     },
     "execution_count": 44,
     "metadata": {},
     "output_type": "execute_result"
    }
   ],
   "source": []
  },
  {
   "cell_type": "code",
   "execution_count": 46,
   "metadata": {},
   "outputs": [
    {
     "name": "stderr",
     "output_type": "stream",
     "text": [
      "C:\\Users\\ville_000\\Anaconda3\\lib\\site-packages\\ipykernel\\__main__.py:42: SettingWithCopyWarning: \n",
      "A value is trying to be set on a copy of a slice from a DataFrame.\n",
      "Try using .loc[row_indexer,col_indexer] = value instead\n",
      "\n",
      "See the caveats in the documentation: http://pandas.pydata.org/pandas-docs/stable/indexing.html#indexing-view-versus-copy\n"
     ]
    },
    {
     "data": {
      "text/html": [
       "<div>\n",
       "<style scoped>\n",
       "    .dataframe tbody tr th:only-of-type {\n",
       "        vertical-align: middle;\n",
       "    }\n",
       "\n",
       "    .dataframe tbody tr th {\n",
       "        vertical-align: top;\n",
       "    }\n",
       "\n",
       "    .dataframe thead tr th {\n",
       "        text-align: left;\n",
       "    }\n",
       "</style>\n",
       "<table border=\"1\" class=\"dataframe\">\n",
       "  <thead>\n",
       "    <tr>\n",
       "      <th></th>\n",
       "      <th colspan=\"2\" halign=\"left\">GDP</th>\n",
       "      <th colspan=\"3\" halign=\"left\">Inflation</th>\n",
       "      <th colspan=\"3\" halign=\"left\">StockPrices</th>\n",
       "      <th colspan=\"3\" halign=\"left\">StockPrices_def</th>\n",
       "      <th colspan=\"3\" halign=\"left\">StockPrices_def_ld1</th>\n",
       "      <th colspan=\"2\" halign=\"left\">GDP_ld1</th>\n",
       "      <th>gdp+stock</th>\n",
       "    </tr>\n",
       "    <tr>\n",
       "      <th></th>\n",
       "      <th>DEU</th>\n",
       "      <th>FIN</th>\n",
       "      <th>AUT</th>\n",
       "      <th>DEU</th>\n",
       "      <th>FIN</th>\n",
       "      <th>AUT</th>\n",
       "      <th>DEU</th>\n",
       "      <th>FIN</th>\n",
       "      <th>AUT</th>\n",
       "      <th>DEU</th>\n",
       "      <th>FIN</th>\n",
       "      <th>AUT</th>\n",
       "      <th>DEU</th>\n",
       "      <th>FIN</th>\n",
       "      <th>DEU</th>\n",
       "      <th>FIN</th>\n",
       "      <th>FIN</th>\n",
       "    </tr>\n",
       "  </thead>\n",
       "  <tbody>\n",
       "    <tr>\n",
       "      <th>2018-10-01</th>\n",
       "      <td>2.993535e+12</td>\n",
       "      <td>2.041390e+11</td>\n",
       "      <td>117.4735</td>\n",
       "      <td>111.655467</td>\n",
       "      <td>111.83850</td>\n",
       "      <td>130.353240</td>\n",
       "      <td>98.342199</td>\n",
       "      <td>108.417365</td>\n",
       "      <td>27.912391</td>\n",
       "      <td>27.849869</td>\n",
       "      <td>12.393552</td>\n",
       "      <td>-0.081448</td>\n",
       "      <td>-0.101685</td>\n",
       "      <td>-0.098282</td>\n",
       "      <td>0.004956</td>\n",
       "      <td>0.005274</td>\n",
       "      <td>-0.093009</td>\n",
       "    </tr>\n",
       "    <tr>\n",
       "      <th>2019-01-01</th>\n",
       "      <td>3.009343e+12</td>\n",
       "      <td>2.048832e+11</td>\n",
       "      <td>116.7358</td>\n",
       "      <td>110.764450</td>\n",
       "      <td>111.57555</td>\n",
       "      <td>127.735845</td>\n",
       "      <td>97.972692</td>\n",
       "      <td>NaN</td>\n",
       "      <td>27.524779</td>\n",
       "      <td>27.968417</td>\n",
       "      <td>NaN</td>\n",
       "      <td>-0.013984</td>\n",
       "      <td>0.004248</td>\n",
       "      <td>NaN</td>\n",
       "      <td>0.005267</td>\n",
       "      <td>0.003639</td>\n",
       "      <td>NaN</td>\n",
       "    </tr>\n",
       "  </tbody>\n",
       "</table>\n",
       "</div>"
      ],
      "text/plain": [
       "                     GDP               Inflation                         \\\n",
       "                     DEU           FIN       AUT         DEU        FIN   \n",
       "2018-10-01  2.993535e+12  2.041390e+11  117.4735  111.655467  111.83850   \n",
       "2019-01-01  3.009343e+12  2.048832e+11  116.7358  110.764450  111.57555   \n",
       "\n",
       "           StockPrices                        StockPrices_def             \\\n",
       "                   AUT        DEU         FIN             AUT        DEU   \n",
       "2018-10-01  130.353240  98.342199  108.417365       27.912391  27.849869   \n",
       "2019-01-01  127.735845  97.972692         NaN       27.524779  27.968417   \n",
       "\n",
       "                      StockPrices_def_ld1                       GDP_ld1  \\\n",
       "                  FIN                 AUT       DEU       FIN       DEU   \n",
       "2018-10-01  12.393552           -0.081448 -0.101685 -0.098282  0.004956   \n",
       "2019-01-01        NaN           -0.013984  0.004248       NaN  0.005267   \n",
       "\n",
       "                     gdp+stock  \n",
       "                 FIN       FIN  \n",
       "2018-10-01  0.005274 -0.093009  \n",
       "2019-01-01  0.003639       NaN  "
      ]
     },
     "execution_count": 46,
     "metadata": {},
     "output_type": "execute_result"
    }
   ],
   "source": [
    "df = do.ReturnDf()\n",
    "df.head(1)\n",
    "\n",
    "variables = ['GDP_ld1','StockPrices_def_ld1']\n",
    "name = \"gdp+stock\"\n",
    "#entities = None\n",
    "entities = ['FIN']\n",
    "\n",
    "df = SumVariables(df.copy(),variables,name=name,entities=entities)\n",
    "df.tail(2)"
   ]
  },
  {
   "cell_type": "code",
   "execution_count": null,
   "metadata": {},
   "outputs": [],
   "source": []
  },
  {
   "cell_type": "markdown",
   "metadata": {},
   "source": [
    "## Plot"
   ]
  },
  {
   "cell_type": "code",
   "execution_count": null,
   "metadata": {},
   "outputs": [],
   "source": [
    "fig = plt.figure(figsize=(15,7))\n",
    "ax = fig.add_subplot(1,1,1)\n",
    "do.PlotVariables(variables=['StockPrices_def_ld1','GDP_ld1','PC','GDP_ld1_wl5'], entities=['FIN'], ax=ax)"
   ]
  },
  {
   "cell_type": "code",
   "execution_count": null,
   "metadata": {},
   "outputs": [],
   "source": []
  }
 ],
 "metadata": {
  "kernelspec": {
   "display_name": "Python [default]",
   "language": "python",
   "name": "python3"
  },
  "language_info": {
   "codemirror_mode": {
    "name": "ipython",
    "version": 3
   },
   "file_extension": ".py",
   "mimetype": "text/x-python",
   "name": "python",
   "nbconvert_exporter": "python",
   "pygments_lexer": "ipython3",
   "version": "3.5.4"
  },
  "toc-showcode": false,
  "toc-showmarkdowntxt": false
 },
 "nbformat": 4,
 "nbformat_minor": 2
}
